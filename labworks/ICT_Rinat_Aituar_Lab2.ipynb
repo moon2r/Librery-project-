{
  "cells": [
    {
      "cell_type": "markdown",
      "metadata": {},
      "source": [
        "# ICT Course — Lab 3\n",
        "\n",
        "## Topic: Conditional operator: if, if/else. Comparison and logical operators.\n",
        "\n",
        "Format: Jupyter Notebook (Python 3).  \n",
        "Assessment: 20 tasks × 0.2 points = 4.0 points\n",
        "\n",
        "## Instructions\n",
        "- Each cell must be executable separately.\n",
        "- Submit file as: `lab3_Surname_Initials.ipynb`.\n",
        "\n",
        "## Quick recap\n",
        "- Comparison operators: `==`, `!=`, `<`, `<=`, `>`, `>=`  \n",
        "- Logical operators: `and`, `or`, `not`  \n",
        "- Flags: store conditions into boolean variables.\n"
      ]
    },
    {
      "cell_type": "markdown",
      "id": "bdd72075",
      "metadata": {},
      "source": [
        "\n",
        "Conditional operators allow you to execute specific blocks of code based on conditions. The most common ones are:\n",
        "- `if`: Executes a block of code if the condition is `True`.\n",
        "- `if/else`: Executes one block of code if the condition is `True`, and another block if it is `False`.\n",
        "- `if/elif/else`: Allows multiple conditions to be checked in sequence.\n",
        "\n",
        "##   Comparison Operators\n",
        "Comparison operators are used to compare values:\n",
        "- `==`: Equal to\n",
        "- `!=`: Not equal to\n",
        "- `<`: Less than\n",
        "- `<=`: Less than or equal to\n",
        "- `>`: Greater than\n",
        "- `>=`: Greater than or equal to\n",
        "\n",
        "##   Logical Operators\n",
        "Logical operators are used to combine multiple conditions:\n",
        "- `and`: Returns `True` if both conditions are `True`.\n",
        "- `or`: Returns `True` if at least one condition is `True`.\n",
        "- `not`: Reverses the result of a condition.\n",
        "\n",
        "##   Example"
      ]
    },
    {
      "cell_type": "code",
      "execution_count": 6,
      "id": "d1541700",
      "metadata": {},
      "outputs": [
        {
          "name": "stdout",
          "output_type": "stream",
          "text": [
            "x больше y\n",
            "a — положительное нечетное число\n"
          ]
        }
      ],
      "source": [
        "x = 10\n",
        "y = 5\n",
        "\n",
        "if x > y:\n",
        "    print(\"x больше y\")\n",
        "elif x == y:\n",
        "    print(\"x равен y\")\n",
        "else:\n",
        "    print(\"x меньше y\")\n",
        "\n",
        "# Логические операторы\n",
        "a = 7\n",
        "if a > 0 and a % 2 == 1:\n",
        "    print(\"a — положительное нечетное число\")"
      ]
    },
    {
      "cell_type": "markdown",
      "id": "adee4763",
      "metadata": {},
      "source": [
        "###  1) The `if` statement\n",
        "Runs a block of code **only if** a condition is `True`.\n",
        "\n",
        "```python\n",
        "x = 10\n",
        "if x > 0:\n",
        "    print(\"positive\")\n",
        "```\n",
        "\n",
        "###  2) `if/else`\n",
        "Selects between two mutually exclusive branches.\n",
        "\n",
        "```python\n",
        "n = int(input())\n",
        "if n % 2 == 0:\n",
        "    print(\"even\")\n",
        "else:\n",
        "    print(\"odd\")\n",
        "```\n",
        "\n",
        "###  3) `if/elif/else`\n",
        "Chains multiple mutually exclusive tests, first match wins.\n",
        "\n",
        "```python\n",
        "score = int(input())\n",
        "if score >= 90:\n",
        "    print(\"A\")\n",
        "elif score >= 80:\n",
        "    print(\"B\")\n",
        "else:\n",
        "    print(\"C or lower\")\n",
        "```\n",
        "\n",
        "###  4) Comparison operators\n",
        "- `==` equal, `!=` not equal\n",
        "- `<`, `<=`, `>`, `>=`\n",
        "- Chaining: `a <= x <= b` is valid and idiomatic in Python.\n",
        "\n",
        "###  5) Logical operators (combine conditions)\n",
        "- `and` (strong condition): **all** parts must be `True`.\n",
        "- `or` (weak condition): **at least one** part is `True`.\n",
        "- `not` negates a boolean value.\n",
        "\n",
        "Short-circuiting:\n",
        "- `A and B` evaluates `B` only if `A` is `True`.\n",
        "- `A or B` evaluates `B` only if `A` is `False`.\n",
        "\n",
        "###  6) Truthiness\n",
        "In conditions, these values are treated as `False`: `0`, `0.0`, `''`, `[]`, `{}`, `set()`, `None`. Most other values are `True`.\n"
      ]
    },
    {
      "cell_type": "markdown",
      "metadata": {},
      "source": [
        "## Task 1. Sign of a number\n",
        "Input: one integer `n`.  \n",
        "Output: print one word: `positive`, `negative`, or `zero`.\n",
        "\n",
        "Hints: use `if … elif … else`. Check `n > 0`, then `n < 0`, else `0`.\n",
        "\n",
        "Examples:\n",
        "- Input: -5 -> Output: negative\n",
        "- Input: 0 -> Output: zero\n",
        "- Input: 12 -> Output: positive"
      ]
    },
    {
      "cell_type": "code",
      "execution_count": 3,
      "metadata": {},
      "outputs": [
        {
          "name": "stdout",
          "output_type": "stream",
          "text": [
            "zero\n"
          ]
        }
      ],
      "source": [
        "n = int(input().strip())\n",
        "if n==0:\n",
        "    print(\"zero\")\n",
        "elif n>0:\n",
        "    print(\"positive\")\n",
        "else:\n",
        "    print(\"negative\")\n",
        "    \n",
        "# TODO: print 'positive', 'negative', or 'zero'"
      ]
    },
    {
      "cell_type": "markdown",
      "metadata": {},
      "source": [
        "## Task 2. Leap year\n",
        "Rule: divisible by 4 and not by 100, unless divisible by 400.  \n",
        "Input: one integer `year`.  \n",
        "Output: print `True` if leap year, otherwise `False`.\n",
        "\n",
        "Hints: use `%` and logical operators. Check 400 first, then 100, then 4.\n",
        "\n",
        "Examples:\n",
        "- Input: 2000 -> Output: True\n",
        "- Input: 1900 -> Output: False\n",
        "- Input: 2024 -> Output: True"
      ]
    },
    {
      "cell_type": "code",
      "execution_count": null,
      "metadata": {},
      "outputs": [
        {
          "name": "stdout",
          "output_type": "stream",
          "text": [
            "false\n"
          ]
        }
      ],
      "source": [
        "year = int(input().strip())\n",
        "\n",
        "if year%400 == 0:\n",
        "    print (\"true\")\n",
        "elif year%4 == 0 and year%100 != 0:\n",
        "    print (\"true\")\n",
        "else:\n",
        "    print (\"false\")\n",
        "\n",
        "# TODO: use logical operators and print True/False"
      ]
    },
    {
      "cell_type": "markdown",
      "metadata": {},
      "source": [
        "## Task 3. Score -> Letter grade\n",
        "Ranges:  \n",
        "- 90–100 -> A  \n",
        "- 80–89 -> B  \n",
        "- 70–79 -> C  \n",
        "- 60–69 -> D  \n",
        "- else -> F  \n",
        "\n",
        "Input: integer `score` in [0..100].  \n",
        "Output: grade letter.\n",
        "\n",
        "Hints: use `if/elif/else`. Start with highest range.\n",
        "\n",
        "Example: Input: 85 -> Output: B"
      ]
    },
    {
      "cell_type": "code",
      "execution_count": 12,
      "metadata": {},
      "outputs": [
        {
          "name": "stdout",
          "output_type": "stream",
          "text": [
            "F\n"
          ]
        }
      ],
      "source": [
        "score = int(input().strip())\n",
        "\n",
        "if score >= 90 and score <=100:\n",
        "    print(\"A\")\n",
        "elif score >= 80 and score <=89:\n",
        "    print(\"B\")\n",
        "elif score >= 70 and score <=79:\n",
        "    print(\"C\")\n",
        "elif score >= 60 and score <=69:\n",
        "    print(\"D\")\n",
        "else:\n",
        "    print(\"F\")\n",
        "\n",
        "# TODO: if/elif/else chain"
      ]
    },
    {
      "cell_type": "markdown",
      "metadata": {},
      "source": [
        "## Task 4. Maximum of three\n",
        "Input: three integers `a b c`.  \n",
        "Output: print the largest value (no `max()`).\n",
        "\n",
        "Hints: compare step by step with nested `if`. First compare two numbers, then with the third.\n",
        "\n",
        "Example: Input: 7 12 5 -> Output: 12"
      ]
    },
    {
      "cell_type": "code",
      "execution_count": null,
      "metadata": {},
      "outputs": [
        {
          "name": "stdout",
          "output_type": "stream",
          "text": [
            "4\n"
          ]
        }
      ],
      "source": [
        "a, b, c = map(int, input().split())\n",
        "\n",
        "if a > b and a > c:\n",
        "    print(a)\n",
        "elif b > a and b > c:\n",
        "    print(b)\n",
        "else:\n",
        "    print(c)\n",
        "\n",
        "# TODO: nested if-statements"
      ]
    },
    {
      "cell_type": "markdown",
      "metadata": {},
      "source": [
        "## Task 5. Triangle type by sides\n",
        "Steps:  \n",
        "1. Check triangle inequality.  \n",
        "2. If invalid -> `invalid`.  \n",
        "3. Else classify: equilateral / isosceles / scalene.  \n",
        "\n",
        "Input: three integers `a b c`.  \n",
        "Output: triangle type.\n",
        "\n",
        "Hints: start with validity check using `and`.\n",
        "\n",
        "Examples: \n",
        "- Input: 3 3 3 -> Output: equilateral\n",
        "- Input: 3 4 5 -> Output: scalene"
      ]
    },
    {
      "cell_type": "code",
      "execution_count": 23,
      "metadata": {},
      "outputs": [
        {
          "name": "stdout",
          "output_type": "stream",
          "text": [
            "scalene\n"
          ]
        }
      ],
      "source": [
        "a, b, c = map(int, input().split())\n",
        "if a+b <= c or a+c <= b or b+c <= a:\n",
        "    print(\"invalid\")\n",
        "else:\n",
        "    if a==b==c:\n",
        "        print(\"equilateral\")\n",
        "    elif a==b or b==c or a==c:\n",
        "        print(\"isosceles\")\n",
        "    else:\n",
        "        print(\"scalene\")\n",
        "\n",
        "# TODO: check validity and classify"
      ]
    },
    {
      "cell_type": "markdown",
      "metadata": {},
      "source": [
        "## Task 6. Even and multiple of 3\n",
        "Input: one integer `n`.  \n",
        "Output: `True` if divisible by 2 and 3, else `False`.\n",
        "\n",
        "Hint: use `n % 2 == 0 and n % 3 == 0`.\n",
        "\n",
        "Examples:\n",
        "- Input: 12 -> Output: True\n",
        "- Input: 9 -> Output: False"
      ]
    },
    {
      "cell_type": "code",
      "execution_count": 25,
      "metadata": {},
      "outputs": [
        {
          "name": "stdout",
          "output_type": "stream",
          "text": [
            "False\n"
          ]
        }
      ],
      "source": [
        "n = int(input().strip())\n",
        "if n%2 == 0 and n%3 == 0 :\n",
        "    print(\"True\")\n",
        "else:\n",
        "    print(\"False\")\n",
        "    \n",
        "# TODO: use 'and'"
      ]
    },
    {
      "cell_type": "markdown",
      "metadata": {},
      "source": [
        "## Task 7. Point quadrant\n",
        "Rules:  \n",
        "- If x=0 or y=0 -> Axis  \n",
        "- Else check quadrants I–IV  \n",
        "\n",
        "Input: two integers `x y`.  \n",
        "Output: I, II, III, IV, or Axis.\n",
        "\n",
        "\n",
        "Example: Input: 3 4 -> Output: I"
      ]
    },
    {
      "cell_type": "code",
      "execution_count": 26,
      "metadata": {},
      "outputs": [
        {
          "name": "stdout",
          "output_type": "stream",
          "text": [
            "I\n"
          ]
        }
      ],
      "source": [
        "x, y = map(int, input().split())\n",
        "\n",
        "if x == 0  or y == 0:\n",
        "    print(\"Axis\")\n",
        "elif x > 0  or y > 0:\n",
        "    print(\"I\")\n",
        "elif x < 0  or y > 0:\n",
        "    print(\"II\")\n",
        "elif x > 0  or y > 0:\n",
        "    print(\"III\")\n",
        "else:\n",
        "    print(\"IV\")\n",
        "    \n",
        "# TODO: nested conditions"
      ]
    },
    {
      "cell_type": "markdown",
      "metadata": {},
      "source": [
        "## Task 8. Absolute value without abs()\n",
        "Input: one integer `n`.  \n",
        "Output: absolute value of `n`.\n",
        "\n",
        "Example: Input: -7 -> Output: 7"
      ]
    },
    {
      "cell_type": "code",
      "execution_count": 28,
      "metadata": {},
      "outputs": [
        {
          "name": "stdout",
          "output_type": "stream",
          "text": [
            "7\n"
          ]
        }
      ],
      "source": [
        "n = int(input().strip())\n",
        "\n",
        "if n < 0:\n",
        "    print(-n)\n",
        "else:\n",
        "    print(n)\n",
        "\n",
        "# TODO: if/else to make non-negative"
      ]
    },
    {
      "cell_type": "markdown",
      "metadata": {},
      "source": [
        "## Task 9. FizzBuzz\n",
        "Rules:  \n",
        "- Divisible by 3 and 5 -> FizzBuzz  \n",
        "- Only 3 -> Fizz  \n",
        "- Only 5 -> Buzz  \n",
        "- Else -> n  \n",
        "\n",
        "Input: one integer `n`.  \n",
        "Output: word or number.\n",
        "\n",
        "Hint: check both divisibility first.\n",
        "\n",
        "Example: Input: 15 -> Output: FizzBuzz"
      ]
    },
    {
      "cell_type": "code",
      "execution_count": 35,
      "metadata": {},
      "outputs": [
        {
          "name": "stdout",
          "output_type": "stream",
          "text": [
            "n\n"
          ]
        }
      ],
      "source": [
        "n = int(input().strip())\n",
        "\n",
        "if n%3==0 and n%5==0:\n",
        "    print(\"FizzBuzz\")\n",
        "elif n%3== 0 and n%5 != 0:\n",
        "    print(\"Fizz\")\n",
        "elif n%3 != 0 and n%5==0:\n",
        "    print(\"Buzz\")\n",
        "else:\n",
        "    print(\"n\")\n",
        "\n",
        "# TODO: careful ordering"
      ]
    },
    {
      "cell_type": "markdown",
      "metadata": {},
      "source": [
        "## Task 10. Compare two fractions\n",
        "Method: cross multiply `n1*d2` vs `n2*d1`.  \n",
        "Input: four integers `n1 d1 n2 d2`.  \n",
        "Output: >, <, or =.\n",
        "\n",
        "Hint: avoid floating-point division.\n",
        "\n",
        "Examples: \n",
        "- Input: 1 2 2 4 -> Output: =\n",
        "- Input: 3 4 2 3 -> Output: >"
      ]
    },
    {
      "cell_type": "code",
      "execution_count": 37,
      "metadata": {},
      "outputs": [
        {
          "name": "stdout",
          "output_type": "stream",
          "text": [
            ">\n"
          ]
        }
      ],
      "source": [
        "n1, d1, n2, d2 = map(float, input().split())\n",
        "\n",
        "if n1 * d2 > n2 * d1:\n",
        "    print(\">\")\n",
        "elif n1 * d2 < n2 * d1:\n",
        "    print(\"<\")\n",
        "else:\n",
        "    print(\"=\")\n",
        "    \n",
        "# TODO: compare n1*d2 and n2*d1\n"
      ]
    },
    {
      "cell_type": "markdown",
      "metadata": {},
      "source": [
        "## Task 11. Discount by customer type\n",
        "Discounts:  \n",
        "- student -> 20%  \n",
        "- vip -> 30%  \n",
        "- regular -> 0%  \n",
        "\n",
        "Input: float price, string type.  \n",
        "Output: final price rounded to 2 decimals.\n",
        "\n",
        "Example: Input: 100 vip -> Output: 70.0"
      ]
    },
    {
      "cell_type": "code",
      "execution_count": 40,
      "metadata": {},
      "outputs": [
        {
          "name": "stdout",
          "output_type": "stream",
          "text": [
            "70.0\n"
          ]
        }
      ],
      "source": [
        "price_s, ctype = input().split()\n",
        "price = float(price_s)\n",
        "ctype = ctype.lower()\n",
        "\n",
        "if ctype == \"student\":\n",
        "    price *= 0.8\n",
        "elif ctype == \"vip\":\n",
        "    price *= 0.7\n",
        "\n",
        "print(round(price, 2))\n",
        "\n",
        "# TODO: apply discount"
      ]
    },
    {
      "cell_type": "markdown",
      "metadata": {},
      "source": [
        "## Task 12. Within inclusive range (order-agnostic)\n",
        "Input: three integers x a b.  \n",
        "Output: True if x is between a and b inclusive, regardless of order.\n",
        "\n",
        "Hint: You can use `min(a,b)` and `max(a,b)`."
      ]
    },
    {
      "cell_type": "code",
      "execution_count": 43,
      "metadata": {},
      "outputs": [
        {
          "name": "stdout",
          "output_type": "stream",
          "text": [
            "true\n"
          ]
        }
      ],
      "source": [
        "x, a, b = map(int, input().split())\n",
        "\n",
        "if min(a,b) <= x <= max(a,b):\n",
        "    print(\"true\")\n",
        "else:\n",
        "    print(\"False\")\n",
        "    \n",
        "# TODO: check range"
      ]
    },
    {
      "cell_type": "markdown",
      "metadata": {},
      "source": [
        "## Task 13. Valid triangle by angles\n",
        "Condition: all > 0 and sum = 180.  \n",
        "Input: three integers A B C.  \n",
        "Output: True or False.\n",
        "\n",
        "Hint: use and operator.\n",
        "\n",
        "Example:\n",
        "- Input: 10 20 30\n",
        "- Output: False\n",
        "-\n",
        "- Input: 90 60 30\n",
        "- Output: True"
      ]
    },
    {
      "cell_type": "code",
      "execution_count": 47,
      "metadata": {},
      "outputs": [
        {
          "name": "stdout",
          "output_type": "stream",
          "text": [
            "True\n"
          ]
        }
      ],
      "source": [
        "A, B, C = map(int, input().split())\n",
        "\n",
        "if A + B + C == 180 and A > 0 and B > 0 and C > 0:\n",
        "    print(\"True\")\n",
        "else:\n",
        "    print(\"False\")\n",
        "\n",
        "# TODO: check validity"
      ]
    },
    {
      "cell_type": "markdown",
      "metadata": {},
      "source": [
        "## Task 14. Day category\n",
        "Mapping:  \n",
        "- 1–5 -> workday  \n",
        "- 6–7 -> weekend  \n",
        "- else -> invalid  \n",
        "\n",
        "Input: integer day.  \n",
        "Output: category.\n",
        "\n",
        "Hint: check ranges separately.\n",
        "\n",
        "Examples: \n",
        "- Input: 3 -> workday\n",
        "- Input: 7 -> weekend\n",
        "- Input: 0 -> invalid"
      ]
    },
    {
      "cell_type": "code",
      "execution_count": 50,
      "metadata": {},
      "outputs": [
        {
          "name": "stdout",
          "output_type": "stream",
          "text": [
            "invalid\n"
          ]
        }
      ],
      "source": [
        "day = int(input().strip())\n",
        "\n",
        "if day >= 1 and day <=5:\n",
        "    print(\"workday\")\n",
        "elif day >=6 and day <=7:\n",
        "    print(\"weekend\")\n",
        "else:\n",
        "    print(\"invalid\")\n",
        "    \n",
        "# TODO: check ranges"
      ]
    },
    {
      "cell_type": "markdown",
      "id": "e50c718a",
      "metadata": {},
      "source": [
        "## Task 15. Even or Multiple of 5 (weak vs strong)\n",
        "Input: one integer `n`.\n",
        "\n",
        "Requirements:\n",
        "- Print `True` if `n` is **even** or a **multiple of 5** (weak condition using `or`).\n",
        "- Then on the next line, print `True` if `n` is **even and** a **multiple of 5** (strong condition using `and`).\n",
        "\n",
        "Hints:\n",
        "- Even means `n % 2 == 0`.\n",
        "- Multiple of 5 means `n % 5 == 0`.\n",
        "- Use two prints so I can see both results.\n",
        "\n",
        "Examples:\n",
        "- Input: 10 -> Output: `True` then `True`\n",
        "- Input: 6 -> Output: `True` then `False`\n",
        "- Input: 5 -> Output: `False` then `False`"
      ]
    },
    {
      "cell_type": "code",
      "execution_count": 53,
      "id": "1542552e",
      "metadata": {},
      "outputs": [
        {
          "name": "stdout",
          "output_type": "stream",
          "text": [
            "True\n",
            "False\n"
          ]
        }
      ],
      "source": [
        "n = int(input().strip())\n",
        "\n",
        "# TODO: weak condition (or)\n",
        "# print(...)\n",
        "print(n % 2 == 0 or n % 5 == 0)\n",
        "# TODO: strong condition (and)\n",
        "# print(...)\n",
        "print(n % 2 == 0 and n % 5 == 0)"
      ]
    },
    {
      "cell_type": "markdown",
      "id": "986d068b",
      "metadata": {},
      "source": [
        "## Task 16. Access Control\n",
        "Input: two values on one line: `role` (string) and `active` (0 or 1).\n",
        "\n",
        "Requirements:\n",
        "- Normalize `role` to lowercase.\n",
        "- Print `granted` if `(role is 'admin' or 'manager') and active == 1`, else print `denied`.\n",
        "\n",
        "Hints:\n",
        "- Normalize `role` to lowercase using `role = role.lower()`.\n",
        "- Combine `or` (role) with `and` (activity) carefully. Parentheses help readability.\n",
        "\n",
        "Examples:\n",
        "- Input: Admin 1 \n",
        "- Output granted\n",
        "-\n",
        "- Input: user 1\n",
        "- Output denied\n",
        "-\n",
        "- Input: manager 0\n",
        "- output denied"
      ]
    },
    {
      "cell_type": "code",
      "execution_count": 61,
      "id": "9eadee5c",
      "metadata": {},
      "outputs": [
        {
          "name": "stdout",
          "output_type": "stream",
          "text": [
            "granted\n"
          ]
        }
      ],
      "source": [
        "role_s, active_s = input().split()\n",
        "active = int(active_s)\n",
        "\n",
        "if (role_s == \"Admin\" or role_s == \"manager\") and active == 1:\n",
        "    print(\"granted\")\n",
        "else:\n",
        "    print(\"denied\")\n",
        "# TODO: combine (role == 'admin' or role == 'manager') with (active == 1)\n",
        "# print('granted') or print('denied')"
      ]
    },
    {
      "cell_type": "markdown",
      "id": "58ee450d",
      "metadata": {},
      "source": [
        "## Task 17. Comfortable Temperature Range\n",
        "Input: integer `t` (room temperature in °C).\n",
        "\n",
        "Requirements:\n",
        "- Print `safe` if `18 <= t <= 26`; otherwise print `unsafe`.\n",
        "\n",
        "Hints:\n",
        "- Use chained comparisons: `18 <= t <= 26`.\n",
        "- Only one print is needed.\n",
        "\n",
        "Examples:\n",
        "- Input: 22 -> safe\n",
        "- Input: 10 -> unsafe"
      ]
    },
    {
      "cell_type": "code",
      "execution_count": 62,
      "id": "8f574e39",
      "metadata": {},
      "outputs": [
        {
          "name": "stdout",
          "output_type": "stream",
          "text": [
            "safe\n"
          ]
        }
      ],
      "source": [
        "t = int(input().strip())\n",
        "\n",
        "if 18 <= t <= 26:\n",
        "    print(\"safe\")\n",
        "else:\n",
        "    print(\"unsafe\")\n",
        "    \n",
        "# TODO: chained comparison and print 'safe' or 'unsafe'"
      ]
    },
    {
      "cell_type": "markdown",
      "id": "241c76a4",
      "metadata": {},
      "source": [
        "## Task 18. Order-Agnostic Range Check\n",
        "Input: three integers `x a b`.\n",
        "\n",
        "Requirements:\n",
        "- Print `True` if `x` lies in the inclusive range `[a, b]` regardless of the order of `a` and `b`; otherwise `False`.\n",
        "\n",
        "Hints:\n",
        "- Use `lo = min(a, b)` and `hi = max(a, b)` and then `lo <= x <= hi`.\n",
        "- Or combine comparisons with logical operators without creating new variables.\n",
        "\n",
        "Examples:\n",
        "- Input: 5 10 1 -> True\n",
        "- Input: 0 -3 -5 -> False"
      ]
    },
    {
      "cell_type": "code",
      "execution_count": 64,
      "id": "8252a9e5",
      "metadata": {},
      "outputs": [
        {
          "name": "stdout",
          "output_type": "stream",
          "text": [
            "False\n"
          ]
        }
      ],
      "source": [
        "x, a, b = map(int, input().split())\n",
        "\n",
        "print(min(a,b) <= x <= max(a, b))\n",
        "# TODO: implement order-agnostic check and print True/False"
      ]
    },
    {
      "cell_type": "markdown",
      "id": "cc29868a",
      "metadata": {},
      "source": [
        "## Task 19 — Consecutive Terms of an Arithmetic Progression\n",
        "Description:\n",
        "\n",
        "Write a program that determines whether three given integers (in the given order - `a`,`b`,`c`) form three consecutive terms of an `arithmetic progression`.\n",
        "\n",
        "Input: three integers `a b c`\n",
        "\n",
        "Output: `YES` if the numbers form consecutive terms of an arithmetic progression, or `NO` otherwise.\n",
        "\n",
        "Examples:\n",
        "\n",
        "Examples:\n",
        "- Input: 1 2 3\n",
        "- Output: YES\n",
        "-\n",
        "- Input: 1 2 4\n",
        "- Output: NO"
      ]
    },
    {
      "cell_type": "code",
      "execution_count": 66,
      "id": "f61c2617",
      "metadata": {},
      "outputs": [
        {
          "name": "stdout",
          "output_type": "stream",
          "text": [
            "NO\n"
          ]
        }
      ],
      "source": [
        "a,b,c = map(int, input().split())\n",
        "\n",
        "if b - a == c - b:\n",
        "    print(\"YES\")\n",
        "else:\n",
        "    print(\"NO\")\n",
        "    \n",
        "# TODO: check if a, b, c are consecutive terms of an arithmetic progression and print 'YES' or 'NO'"
      ]
    },
    {
      "cell_type": "markdown",
      "id": "552411e0",
      "metadata": {},
      "source": [
        "## Task 20 — Intersection of Segments  \n",
        "\n",
        "**Description:**  \n",
        "On a number line two segments are given: \\([a1; b1]\\) and \\([a2; b2]\\).  \n",
        "Write a program that finds their intersection.  \n",
        "\n",
        "The intersection of two segments can be:  \n",
        "- **segment** (two numbers) \n",
        "\n",
        "<img src=\"https://ucarecdn.com/67067971-5281-478c-9d14-a6f05715da42/\" width=400/>\n",
        "\n",
        "\n",
        "- a **point** (one number) \n",
        "\n",
        "<img src=\"https://ucarecdn.com/ac19322f-64ea-4877-b064-295623d83179/\" width=400 />\n",
        "\n",
        "\n",
        "- the **empty set** (no overlap) \n",
        "\n",
        "<img src=\"https://ucarecdn.com/04e13a22-3eb0-48bc-bf89-bf5cbd1ab332/\" width=400 />\n",
        "\n",
        "**Input format:**  \n",
        "The program receives four integers `a1`, `b1`, `a2`, `b2`, each on a separate line.  \n",
        "\n",
        "Must be `a1 < b1` and `a2 < b2`.  \n",
        "\n",
        "**Output format:**  \n",
        "- If the intersection is a segment, print its boundaries separated by a space.  \n",
        "- If the intersection is a point, print this single number.  \n",
        "- If the intersection is empty, print the text `empty set`.  \n",
        "\n",
        "**Hint:**  \n",
        "- The left boundary of the intersection is `max(a1, a2)`.  \n",
        "- The right boundary of the intersection is `min(b1, b2)`.  \n",
        "- If `left > right` → no intersection.  \n",
        "- If `left == right` → intersection is a point.  \n",
        "- If `left < right` → intersection is a segment.  \n",
        "\n",
        "**Examples:**  \n",
        "\n",
        "- Input:  1 3 2 4\n",
        "- Output: 2 3\n",
        "- \n",
        "- Input: 1 2 3 441\n",
        "- Output: empty set\n",
        "- \n",
        "- Input: 5 6 6 80\n",
        "- Output: 6"
      ]
    },
    {
      "cell_type": "code",
      "execution_count": 69,
      "id": "796eaf0f",
      "metadata": {},
      "outputs": [
        {
          "name": "stdout",
          "output_type": "stream",
          "text": [
            "6\n"
          ]
        }
      ],
      "source": [
        "a1, b1, a2, b2 = map(int, input().split())\n",
        "\n",
        "left = max(a1, a2)\n",
        "right = min(b1, b2)\n",
        "\n",
        "if left > right:\n",
        "    print(\"empty set\")\n",
        "elif left == right:\n",
        "    print(left)\n",
        "else:\n",
        "    print(left, right)\n",
        "    \n",
        "# TODO: check the intersection cases and print the result"
      ]
    }
  ],
  "metadata": {
    "kernelspec": {
      "display_name": "base",
      "language": "python",
      "name": "python3"
    },
    "language_info": {
      "codemirror_mode": {
        "name": "ipython",
        "version": 3
      },
      "file_extension": ".py",
      "mimetype": "text/x-python",
      "name": "python",
      "nbconvert_exporter": "python",
      "pygments_lexer": "ipython3",
      "version": "3.13.5"
    }
  },
  "nbformat": 4,
  "nbformat_minor": 5
}
