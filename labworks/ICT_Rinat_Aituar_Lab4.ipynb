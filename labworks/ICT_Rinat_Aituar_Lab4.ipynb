{
 "cells": [
  {
   "cell_type": "markdown",
   "id": "c8c2fd22",
   "metadata": {},
   "source": [
    "\n",
    "# Lab 4 — Embedded (Nested) Loops, `break`, `continue`\n",
    "\n",
    "**Course:** ICT / Python Programming  \n",
    "**Semester:** Fall 2025 • **Date generated:** 2025-09-25  \n",
    "\n",
    "---\n",
    "\n",
    "## Learning Outcomes\n",
    "By the end of this lab, you will be able to:\n",
    "- Apply **nested loops** to multi-step, 2D-like problems.\n",
    "- Use **`break`** to exit loops early when a goal is reached.\n",
    "- Use **`continue`** to skip the rest of the current iteration.\n",
    "- Combine `for` and `while` to implement classic patterns and small algorithms.\n",
    "\n",
    "---\n",
    "\n",
    "## Theory\n",
    "### 1. Nested (Embedded) Loops\n",
    "A loop inside another loop. The **inner loop** runs completely for **each** iteration of the **outer loop**.\n",
    "\n",
    "```python\n",
    "for i in range(1, 4):      # outer\n",
    "    for j in range(1, 4):  # inner\n",
    "        print(i * j, end=\" \")\n",
    "    print()\n",
    "```\n",
    "\n",
    "**Output**\n",
    "```\n",
    "1 2 3\n",
    "2 4 6\n",
    "3 6 9\n",
    "```\n",
    "\n",
    "### 2. `break`\n",
    "Stops the **nearest** loop immediately.\n",
    "```python\n",
    "for i in range(1, 10):\n",
    "    if i == 5:\n",
    "        break     # exit the loop now\n",
    "    print(i, end=\" \")\n",
    "# 1 2 3 4\n",
    "```\n",
    "\n",
    "### 3. `continue`\n",
    "Skips the rest of the current iteration and goes to the next one.\n",
    "```python\n",
    "for i in range(1, 6):\n",
    "    if i == 3:\n",
    "        continue  # skip printing 3\n",
    "    print(i, end=\" \")\n",
    "# 1 2 4 5\n",
    "```\n",
    "\n",
    "### 4. Tips\n",
    "- Prefer clear loop bounds: `range(start, stop)` and `range(start, stop, step)`.\n",
    "- When you need to **stop after finding something**, use `break`.\n",
    "- When you need to **skip some cases**, use `continue`.\n",
    "- Avoid premature optimization; write code that is **simple and correct** first.\n",
    "- Keep I/O simple (use `input()` only when asked in tasks).\n",
    "\n",
    "---\n",
    "\n",
    "> **Submission format:** `lab4_Surname_Initials.ipynb`.  \n",
    "> Below are 15 tasks. Each task has a **statement** and **sample input/output**.  \n",
    "> Write your code in the empty cell under each task.\n",
    "> ## Each task = 0.2 points, total 3.0"
   ]
  },
  {
   "cell_type": "markdown",
   "id": "f630405e",
   "metadata": {},
   "source": [
    "## Task 1. Rectangle of Stars (N × M)\n",
    "**Input:** two integers `N` (rows) and `M` (columns).\n",
    "\n",
    "**Output:** print a rectangle of `*` with `N` rows and `M` columns.\n",
    "\n",
    "**Sample**\n",
    "\n",
    "Input\n",
    "```\n",
    "3 5\n",
    "```\n",
    "Output\n",
    "```\n",
    "*****\n",
    "*****\n",
    "*****\n",
    "```"
   ]
  },
  {
   "cell_type": "code",
   "execution_count": 1,
   "id": "039e15da",
   "metadata": {},
   "outputs": [
    {
     "name": "stdout",
     "output_type": "stream",
     "text": [
      "*****\n",
      "*****\n",
      "*****\n"
     ]
    }
   ],
   "source": [
    "# Write your solution here\n",
    "N = int(input().strip())\n",
    "M = int(input().strip())\n",
    "for i in range(N):\n",
    "    print (\"*\" * M)"
   ]
  },
  {
   "cell_type": "markdown",
   "id": "c2ef5004",
   "metadata": {},
   "source": [
    "## Task 2. Right Triangle of Stars\n",
    "**Input:** integer `N`.\n",
    "\n",
    "**Output:** right triangle with height `N` (i-th row has `i` stars).\n",
    "\n",
    "**Sample**\n",
    "\n",
    "Input\n",
    "```\n",
    "4\n",
    "```\n",
    "Output\n",
    "```\n",
    "*\n",
    "**\n",
    "***\n",
    "****\n",
    "```"
   ]
  },
  {
   "cell_type": "code",
   "execution_count": 3,
   "id": "e96e03f7",
   "metadata": {},
   "outputs": [
    {
     "name": "stdout",
     "output_type": "stream",
     "text": [
      "*\n",
      "**\n",
      "***\n",
      "****\n"
     ]
    }
   ],
   "source": [
    "# Write your solution here\n",
    "N = int(input().strip())\n",
    "for i in range (1 , N+1):\n",
    "    print(\"*\" * i)"
   ]
  },
  {
   "cell_type": "markdown",
   "id": "ef7f2604",
   "metadata": {},
   "source": [
    "## Task 3. Hollow Rectangle\n",
    "**Input:** two integers `N` and `M`.\n",
    "\n",
    "**Output:** border of size `N × M` using `*`, inside spaces. If `N=1` or `M=1`, print a solid line of `*`.\n",
    "\n",
    "**Sample**\n",
    "\n",
    "Input\n",
    "```\n",
    "4 6\n",
    "```\n",
    "Output\n",
    "```\n",
    "******\n",
    "*    *\n",
    "*    *\n",
    "******\n",
    "```"
   ]
  },
  {
   "cell_type": "code",
   "execution_count": 5,
   "id": "a8dc37b8",
   "metadata": {},
   "outputs": [
    {
     "name": "stdout",
     "output_type": "stream",
     "text": [
      "******\n",
      "*    *\n",
      "*    *\n",
      "******\n"
     ]
    }
   ],
   "source": [
    "# Write your solution here\n",
    "N = int(input().strip())\n",
    "M = int(input().strip())\n",
    "for i in range(N):\n",
    "    if i == 0 or i == N-1:\n",
    "        print(\"*\" * M)\n",
    "    else:\n",
    "        print(\"*\" + \" \" * (M-2) + \"*\")"
   ]
  },
  {
   "cell_type": "markdown",
   "id": "51235e0b",
   "metadata": {},
   "source": [
    "## Task 4. Multiplication Table up to N × N\n",
    "**Input:** integer `N`.\n",
    "\n",
    "**Output:** Print the multiplication table `i*j` for `i, j = 1..N`. Separate values with spaces.\n",
    "\n",
    "**Sample**\n",
    "\n",
    "Input\n",
    "```\n",
    "3\n",
    "```\n",
    "Output\n",
    "```\n",
    "1 2 3\n",
    "2 4 6\n",
    "3 6 9\n",
    "```"
   ]
  },
  {
   "cell_type": "code",
   "execution_count": 7,
   "id": "54400ec6",
   "metadata": {},
   "outputs": [
    {
     "name": "stdout",
     "output_type": "stream",
     "text": [
      "1 2 3 \n",
      "2 4 6 \n",
      "3 6 9 \n"
     ]
    }
   ],
   "source": [
    "# Write your solution here\n",
    "N = int(input().strip())\n",
    "for i in range(1,4):\n",
    "    for j in range(1,4):\n",
    "        print(i*j, end=\" \")\n",
    "    print()\n"
   ]
  },
  {
   "cell_type": "markdown",
   "id": "4ff303d8",
   "metadata": {},
   "source": [
    "## Task 5. Stop Printing When Product Exceeds K\n",
    "**Input:** integers `N` and `K`.\n",
    "\n",
    "**Output:** Print the multiplication table `i*j` for `i,j=1..N`. As soon as any product becomes greater than K, stop all printing immediately.\n",
    "\n",
    "**Sample**\n",
    "\n",
    "Input\n",
    "```\n",
    "4 7\n",
    "```\n",
    "Possible output (one valid variant)\n",
    "```\n",
    "1 2 3 4\n",
    "2 4 6\n",
    "```\n",
    "*(Printing stops before the next value would exceed `K`.)*"
   ]
  },
  {
   "cell_type": "code",
   "execution_count": 8,
   "id": "32cc87fe",
   "metadata": {},
   "outputs": [
    {
     "name": "stdout",
     "output_type": "stream",
     "text": [
      "1 2 3 4 \n",
      "2 4 6 \n"
     ]
    }
   ],
   "source": [
    "# Write your solution here\n",
    "N = int(input().strip())\n",
    "K= int(input().strip())\n",
    "for i in range(1, N + 1):\n",
    "    for j in range(1, N + 1):\n",
    "        if i * j > K:\n",
    "            break\n",
    "        print(i * j, end=' ')\n",
    "    print()\n",
    "    if i * (N + 1) > K:\n",
    "        break"
   ]
  },
  {
   "cell_type": "markdown",
   "id": "f34fa396",
   "metadata": {},
   "source": [
    "## Task 6. Skip Multiples of 3\n",
    "**Input:** integer `N`.\n",
    "\n",
    "**Output:** for all `i,j=1..N`, print `i*j` except those divisible by `3` (skip them). Numbers in a row are space-separated.\n",
    "\n",
    "**Sample**\n",
    "\n",
    "Input\n",
    "```\n",
    "4\n",
    "```\n",
    "Output\n",
    "```\n",
    "1 2 4\n",
    "2 4 8\n",
    "4 8\n",
    "```"
   ]
  },
  {
   "cell_type": "code",
   "execution_count": 17,
   "id": "6011f321",
   "metadata": {},
   "outputs": [
    {
     "name": "stdout",
     "output_type": "stream",
     "text": [
      "1 2 4 \n",
      "2 4 8 \n",
      "\n",
      "4 8 16 \n"
     ]
    }
   ],
   "source": [
    "# Write your solution here\n",
    "N = int(input().strip())\n",
    "\n",
    "for i in range(1, N + 1):\n",
    "    for j in range(1, N + 1):\n",
    "        if (i * j) % 3 != 0:\n",
    "            print(i * j, end=' ')\n",
    "    print()\n"
   ]
  },
  {
   "cell_type": "markdown",
   "id": "9e9a9851",
   "metadata": {},
   "source": [
    "## Task 7. Count Ordered Pairs (i, j) with i < j\n",
    "**Input:** integer `N`.\n",
    "\n",
    "**Output:** count of ordered pairs `(i, j)` such that `1 ≤ i, j ≤ N` and `i < j`.\n",
    "\n",
    "**Sample**\n",
    "\n",
    "Input\n",
    "```\n",
    "4\n",
    "```\n",
    "Output\n",
    "```\n",
    "6\n",
    "```"
   ]
  },
  {
   "cell_type": "code",
   "execution_count": 18,
   "id": "f3a126d8",
   "metadata": {},
   "outputs": [
    {
     "name": "stdout",
     "output_type": "stream",
     "text": [
      "6\n"
     ]
    }
   ],
   "source": [
    "# Write your solution here\n",
    "N = int(input().strip())\n",
    "count = 0\n",
    "\n",
    "for i in range(1, N + 1):\n",
    "    for j in range(i + 1, N + 1):\n",
    "        count += 1\n",
    "\n",
    "print(count)"
   ]
  },
  {
   "cell_type": "markdown",
   "id": "a63cad09",
   "metadata": {},
   "source": [
    "## Task 8. Coordinate Grid\n",
    "**Input:** integers `N` and `M`.\n",
    "\n",
    "**Output:** print `N` lines; in the i-th line list pairs `(i,j)` for `j=1..M` separated by spaces.\n",
    "\n",
    "**Sample**\n",
    "\n",
    "Input\n",
    "```\n",
    "2 3\n",
    "```\n",
    "Output\n",
    "```\n",
    "(1,1) (1,2) (1,3)\n",
    "(2,1) (2,2) (2,3)\n",
    "```"
   ]
  },
  {
   "cell_type": "code",
   "execution_count": 19,
   "id": "21b67ef3",
   "metadata": {},
   "outputs": [
    {
     "name": "stdout",
     "output_type": "stream",
     "text": [
      "(1,1) (1,2) (1,3) \n",
      "(2,1) (2,2) (2,3) \n"
     ]
    }
   ],
   "source": [
    "# Write your solution here\n",
    "N = int(input().strip())\n",
    "M = int(input().strip())\n",
    "for i in range(1, N + 1):\n",
    "    for j in range(1, M + 1):\n",
    "        print(f\"({i},{j})\", end=' ')\n",
    "    print()"
   ]
  },
  {
   "cell_type": "markdown",
   "id": "515cc9e8",
   "metadata": {},
   "source": [
    "## Task 9. First Pair with Given Sum S\n",
    "**Input:** integers `N` and `S`.\n",
    "\n",
    "**Output:** iterate pairs `i,j` by increasing `i` and within by increasing `j` (both 1..N). Find the **first** pair with `i + j == S`. Print `i j` and stop. If none, print `Not found`.\n",
    "\n",
    "**Sample 1**\n",
    "\n",
    "Input\n",
    "```\n",
    "4 5\n",
    "```\n",
    "Output\n",
    "```\n",
    "1 4\n",
    "```\n",
    "\n",
    "**Sample 2**\n",
    "\n",
    "Input\n",
    "```\n",
    "3 10\n",
    "```\n",
    "Output\n",
    "```\n",
    "Not found\n",
    "```"
   ]
  },
  {
   "cell_type": "code",
   "execution_count": 22,
   "id": "945abf87",
   "metadata": {},
   "outputs": [
    {
     "name": "stdout",
     "output_type": "stream",
     "text": [
      "Not found\n"
     ]
    }
   ],
   "source": [
    "# Write your solution here\n",
    "N = int(input().strip())\n",
    "S = int(input().strip())\n",
    "found = False\n",
    "for i in range(1, N + 1):\n",
    "    for j in range(1, N + 1):\n",
    "        if i + j == S:\n",
    "            print(i, j)\n",
    "            found = True\n",
    "            break\n",
    "    if found:\n",
    "        break\n",
    "\n",
    "if not found:\n",
    "    print(\"Not found\")"
   ]
  },
  {
   "cell_type": "markdown",
   "id": "9d940d31",
   "metadata": {},
   "source": [
    "## Task 10. Number Pyramid\n",
    "**Input:** integer `N`.\n",
    "\n",
    "**Output:** print numbers starting from 1 in rows of increasing length (row i has i numbers), until you reach `N`. The last row may be incomplete.\n",
    "\n",
    "**Sample**\n",
    "\n",
    "Input\n",
    "```\n",
    "7\n",
    "```\n",
    "Output\n",
    "```\n",
    "1\n",
    "2 3\n",
    "4 5 6\n",
    "7\n",
    "```"
   ]
  },
  {
   "cell_type": "code",
   "execution_count": 23,
   "id": "a3ded715",
   "metadata": {},
   "outputs": [
    {
     "name": "stdout",
     "output_type": "stream",
     "text": [
      "1 \n",
      "2 3 \n",
      "4 5 6 \n",
      "7 "
     ]
    }
   ],
   "source": [
    "# Write your solution here\n",
    "N = int(input().strip())\n",
    "num = 1\n",
    "\n",
    "for i in range(1, N + 1):\n",
    "    for j in range(i):\n",
    "        if num > N:\n",
    "            break\n",
    "        print(num, end=' ')\n",
    "        num += 1\n",
    "    if num > N:\n",
    "        break\n",
    "    print()"
   ]
  },
  {
   "cell_type": "markdown",
   "id": "2ad8fac0",
   "metadata": {},
   "source": [
    "## Task 11. Chessboard Pattern (`#` and `.`)\n",
    "**Input:** integers `N` and `M`.\n",
    "\n",
    "**Output:** print an `N × M` board with alternating cells like a chessboard: cell `(1,1)` is `#`; use parity of `i+j`.\n",
    "\n",
    "**Sample**\n",
    "\n",
    "Input\n",
    "```\n",
    "4 5\n",
    "```\n",
    "Output\n",
    "```\n",
    "#.#.#\n",
    ".#.#.\n",
    "#.#.#\n",
    ".#.#.\n",
    "```"
   ]
  },
  {
   "cell_type": "code",
   "execution_count": 24,
   "id": "f50459c7",
   "metadata": {},
   "outputs": [
    {
     "name": "stdout",
     "output_type": "stream",
     "text": [
      "#.#.#\n",
      ".#.#.\n",
      "#.#.#\n",
      ".#.#.\n"
     ]
    }
   ],
   "source": [
    "# Write your solution here\n",
    "N = int(input().strip())\n",
    "M = int(input().strip())\n",
    "\n",
    "for i in range(N):\n",
    "    for j in range(M):\n",
    "        if (i + j) % 2 == 0:\n",
    "            print('#', end='')\n",
    "        else:\n",
    "            print('.', end='')\n",
    "    print()"
   ]
  },
  {
   "cell_type": "markdown",
   "id": "d98170e5",
   "metadata": {},
   "source": [
    "## Task 12. All Primes up to N (use `break` on first divisor)\n",
    "**Input:** integer `N (≥2)`.\n",
    "\n",
    "**Output:** all prime numbers from 2 to `N` inclusive, in one line separated by spaces.\n",
    "\n",
    "**Sample**\n",
    "\n",
    "Input\n",
    "```\n",
    "10\n",
    "```\n",
    "Output\n",
    "```\n",
    "2 3 5 7\n",
    "```"
   ]
  },
  {
   "cell_type": "code",
   "execution_count": 25,
   "id": "79295e32",
   "metadata": {},
   "outputs": [
    {
     "name": "stdout",
     "output_type": "stream",
     "text": [
      "2 3 5 7 "
     ]
    }
   ],
   "source": [
    "# Write your solution here\n",
    "N = int(input().strip())\n",
    "for num in range(2, N + 1):\n",
    "    is_prime = True\n",
    "    for i in range(2, num):\n",
    "        if num % i == 0:\n",
    "            is_prime = False\n",
    "            break\n",
    "    if is_prime:\n",
    "        print(num, end=' ')"
   ]
  },
  {
   "cell_type": "markdown",
   "id": "f47e0a7d",
   "metadata": {},
   "source": [
    "## Task 13. Smallest Divisor for Each Number\n",
    "**Input:** integer `N (≥2)`.\n",
    "\n",
    "**Output:** for each `x` from 2 to `N`, print `x:d` where `d` is the smallest divisor of `x` (other than 1). If `x` is prime, then `d = x`.\n",
    "\n",
    "**Sample**\n",
    "\n",
    "Input\n",
    "```\n",
    "8\n",
    "```\n",
    "Output\n",
    "```\n",
    "2:2\n",
    "3:3\n",
    "4:2\n",
    "5:5\n",
    "6:2\n",
    "7:7\n",
    "8:2\n",
    "```"
   ]
  },
  {
   "cell_type": "code",
   "execution_count": 26,
   "id": "e8c367d9",
   "metadata": {},
   "outputs": [
    {
     "name": "stdout",
     "output_type": "stream",
     "text": [
      "2:2\n",
      "3:3\n",
      "4:2\n",
      "5:5\n",
      "6:2\n",
      "7:7\n",
      "8:2\n"
     ]
    }
   ],
   "source": [
    "# Write your solution here\n",
    "N = int(input().strip())\n",
    "for x in range(2, N + 1):\n",
    "    for d in range(2, x + 1):\n",
    "        if x % d == 0:\n",
    "            print(f\"{x}:{d}\")\n",
    "            break\n",
    "    "
   ]
  },
  {
   "cell_type": "markdown",
   "id": "36ac73c4",
   "metadata": {},
   "source": [
    "## Task 14. Formatted Multiplication Table with Headers\n",
    "**Input:** integer `N`.\n",
    "\n",
    "**Output:** print column headers `1..N` and then each row as `i| ...` with products `i*j`. Use a single space between numbers.\n",
    "\n",
    "**Sample**\n",
    "\n",
    "Input\n",
    "```\n",
    "4\n",
    "```\n",
    "Output\n",
    "```\n",
    "   1 2 3 4\n",
    "1| 1 2 3 4\n",
    "2| 2 4 6 8\n",
    "3| 3 6 9 12\n",
    "4| 4 8 12 16\n",
    "```"
   ]
  },
  {
   "cell_type": "code",
   "execution_count": 27,
   "id": "7aecad46",
   "metadata": {},
   "outputs": [
    {
     "name": "stdout",
     "output_type": "stream",
     "text": [
      "   1 2 3 4 \n",
      "1| 1 2 3 4 \n",
      "2| 2 4 6 8 \n",
      "3| 3 6 9 12 \n",
      "4| 4 8 12 16 \n"
     ]
    }
   ],
   "source": [
    "# Write your solution here\n",
    "N = int(input().strip())\n",
    "print('   ', end='')\n",
    "for j in range(1, N + 1):\n",
    "    print(j, end=' ')\n",
    "print()\n",
    "\n",
    "for i in range(1, N + 1):\n",
    "    print(f\"{i}|\", end=' ')\n",
    "    for j in range(1, N + 1):\n",
    "        print(i * j, end=' ')\n",
    "    print()"
   ]
  },
  {
   "cell_type": "markdown",
   "id": "8e4b17f0",
   "metadata": {},
   "source": [
    "## Task 15. Find Position in Multiplication Table (early stop)\n",
    "**Input:** integers `N`, `M`, `T`.\n",
    "\n",
    "**Output:** find the **first** position `(i,j)` in the `N × M` table where `i*j == T` (row-major order). Print `i j` and stop. If none, print `Not found`.\n",
    "\n",
    "**Sample 1**\n",
    "\n",
    "Input\n",
    "```\n",
    "3 5 6\n",
    "```\n",
    "Output\n",
    "```\n",
    "2 3\n",
    "```\n",
    "\n",
    "**Sample 2**\n",
    "\n",
    "Input\n",
    "```\n",
    "2 4 9\n",
    "```\n",
    "Output\n",
    "```\n",
    "Not found\n",
    "```"
   ]
  },
  {
   "cell_type": "code",
   "execution_count": 30,
   "id": "c59ef434",
   "metadata": {},
   "outputs": [
    {
     "name": "stdout",
     "output_type": "stream",
     "text": [
      "Not found\n"
     ]
    }
   ],
   "source": [
    "# Write your solution here\n",
    "N = int(input().strip())\n",
    "M = int(input().strip())\n",
    "T = int(input().strip())\n",
    "found = False\n",
    "for i in range(1, N + 1):\n",
    "    for j in range(1, M + 1):\n",
    "        if i * j == T:\n",
    "            print(i, j)\n",
    "            found = True\n",
    "            break\n",
    "    if found:\n",
    "        break\n",
    "\n",
    "if not found:\n",
    "    print(\"Not found\")"
   ]
  }
 ],
 "metadata": {
  "kernelspec": {
   "display_name": "base",
   "language": "python",
   "name": "python3"
  },
  "language_info": {
   "codemirror_mode": {
    "name": "ipython",
    "version": 3
   },
   "file_extension": ".py",
   "mimetype": "text/x-python",
   "name": "python",
   "nbconvert_exporter": "python",
   "pygments_lexer": "ipython3",
   "version": "3.13.5"
  }
 },
 "nbformat": 4,
 "nbformat_minor": 5
}
