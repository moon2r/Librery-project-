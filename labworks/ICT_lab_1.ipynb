{
 "cells": [
  {
   "cell_type": "markdown",
   "id": "ab728fa4",
   "metadata": {},
   "source": [
    "# ICT Course — Laboratory Work 1 (Python Basics)\n",
    "\n",
    "## Topic: First Python programs. Input/Output. Linear programs. `math` module. Assignment operators.  \n",
    "---\n",
    "\n",
    "## Learning Objectives\n",
    "\n",
    "By the end of this lab you will be able to:\n",
    "\n",
    "1. Set up a Python environment and run code in Jupyter Notebook.  \n",
    "2. Use `print()` and `input()` functions to display and collect data.  \n",
    "3. Work with different Python data types (string, integer, float).  \n",
    "4. Write *linear programs* (straight-line execution, no branching or loops).  \n",
    "5. Apply arithmetic operators (`+`, `-`, `*`, `/`, `//`, `%`, `**`).  \n",
    "6. Use functions from the `math` module (`sqrt`, `log`, `sin`, `cos`, `ceil`, `floor`).  \n",
    "7. Work with assignment operators (`=`, `+=`, `-=`, `*=`, `/=`, `//=`, `%=`).  "
   ]
  },
  {
   "cell_type": "markdown",
   "id": "e62455c9",
   "metadata": {},
   "source": [
    "## Part A — Input and Output"
   ]
  },
  {
   "cell_type": "markdown",
   "id": "81cb12b7",
   "metadata": {},
   "source": [
    "### 1. Using `print()`\n"
   ]
  },
  {
   "cell_type": "code",
   "execution_count": 3,
   "id": "ba1c7661",
   "metadata": {},
   "outputs": [
    {
     "name": "stdout",
     "output_type": "stream",
     "text": [
      "Hello, world!\n",
      "Sum of 2 and 3 is: 5\n",
      "2 + 3 = 5\n"
     ]
    }
   ],
   "source": [
    "print(\"Hello, world!\")\n",
    "print(\"Sum of 2 and 3 is:\", 2 + 3)\n",
    "print(f\"2 + 3 = {2 + 3}\")   # formatted string (f-string)"
   ]
  },
  {
   "cell_type": "markdown",
   "id": "a78bcb17",
   "metadata": {},
   "source": [
    "### 2. Using `input()`"
   ]
  },
  {
   "cell_type": "code",
   "execution_count": 5,
   "id": "a2f12a36",
   "metadata": {},
   "outputs": [
    {
     "name": "stdout",
     "output_type": "stream",
     "text": [
      "Hello, 24! Next year you will be 25.\n"
     ]
    }
   ],
   "source": [
    "name = input(\"Enter your name: \")\n",
    "age = int(input(\"Enter your age: \"))\n",
    "print(f\"Hello, {name}! Next year you will be {age + 1}.\")\n"
   ]
  },
  {
   "cell_type": "markdown",
   "id": "590f1b17",
   "metadata": {},
   "source": [
    "## Part B — Linear Programs and Operators"
   ]
  },
  {
   "cell_type": "markdown",
   "id": "3037cf5c",
   "metadata": {},
   "source": [
    "### Example: Simple math operations\n"
   ]
  },
  {
   "cell_type": "code",
   "execution_count": null,
   "id": "16d4f084",
   "metadata": {},
   "outputs": [],
   "source": [
    "a = 10\n",
    "b = 3\n",
    "print(\"a + b =\", a + b)\n",
    "print(\"a - b =\", a - b)\n",
    "print(\"a * b =\", a * b)\n",
    "print(\"a / b =\", a / b)\n",
    "print(\"a // b =\", a // b)   # integer division\n",
    "print(\"a % b =\", a % b)     # remainder\n",
    "print(\"a ** b =\", a ** b)   # power\n"
   ]
  },
  {
   "cell_type": "markdown",
   "id": "2b434773",
   "metadata": {},
   "source": [
    "### Assignment operators"
   ]
  },
  {
   "cell_type": "code",
   "execution_count": null,
   "id": "da0076dc",
   "metadata": {},
   "outputs": [],
   "source": [
    "x = 5\n",
    "x += 3   # same as x = x + 3\n",
    "x *= 2\n",
    "print(x)   # result is 16\n"
   ]
  },
  {
   "cell_type": "markdown",
   "id": "9bf621f7",
   "metadata": {},
   "source": [
    "## Part C — `math` Module\n"
   ]
  },
  {
   "cell_type": "code",
   "execution_count": null,
   "id": "a5ba5f18",
   "metadata": {},
   "outputs": [],
   "source": [
    "import math\n",
    "\n",
    "print(\"Square root of 16:\", math.sqrt(16))\n",
    "print(\"Logarithm base 10 of 1000:\", math.log10(1000))\n",
    "print(\"Ceil of 2.3:\", math.ceil(2.3))\n",
    "print(\"Floor of 2.9:\", math.floor(2.9))\n",
    "print(\"Sin(30°):\", math.sin(math.radians(30)))\n"
   ]
  },
  {
   "cell_type": "markdown",
   "id": "e8db6708",
   "metadata": {},
   "source": [
    "## Tasks (2 points, 0.2 each)\n",
    "\n",
    "**Instructions:** Solve each task in a separate cell. Write clean code and comments.\n"
   ]
  },
  {
   "cell_type": "markdown",
   "id": "46cfb907",
   "metadata": {},
   "source": [
    "### Task 1\n",
    "Write a program that reads two numbers and prints their sum and product.\n"
   ]
  },
  {
   "cell_type": "code",
   "execution_count": 4,
   "id": "589c1262",
   "metadata": {},
   "outputs": [
    {
     "name": "stdout",
     "output_type": "stream",
     "text": [
      "10\n"
     ]
    }
   ],
   "source": [
    "# TODO: Write your solution here\n",
    "a = 5\n",
    "b = 5\n",
    "print (a + b)"
   ]
  },
  {
   "cell_type": "markdown",
   "id": "369bd94f",
   "metadata": {},
   "source": [
    "### Task 2\n",
    "Ask the user for their name and favorite number. Print the number squared."
   ]
  },
  {
   "cell_type": "code",
   "execution_count": 3,
   "id": "074b685b",
   "metadata": {},
   "outputs": [
    {
     "name": "stdout",
     "output_type": "stream",
     "text": [
      "144\n"
     ]
    }
   ],
   "source": [
    "# TODO: Write your solution here\n",
    "name = input(\"Enter your name: \")\n",
    "f_number = int(input(\"Enter your favorite number\"))\n",
    "print(f_number * f_number)"
   ]
  },
  {
   "cell_type": "markdown",
   "id": "ef9ca6ea",
   "metadata": {},
   "source": [
    "### Task 3\n",
    "Convert Celsius to Fahrenheit using formula `F = C * 9/5 + 32`.\n"
   ]
  },
  {
   "cell_type": "code",
   "execution_count": 4,
   "id": "61b0c769",
   "metadata": {},
   "outputs": [
    {
     "name": "stdout",
     "output_type": "stream",
     "text": [
      "75.2\n"
     ]
    }
   ],
   "source": [
    "# TODO: Write your solution here\n",
    "cel = int(input(\"Enter tempurature in celsius: \"))\n",
    "fahr = (cel * 9/5 + 32)\n",
    "print(fahr)"
   ]
  },
  {
   "cell_type": "markdown",
   "id": "9aae4d28",
   "metadata": {},
   "source": [
    "### Task 4\n",
    "Calculate the area of a circle with radius entered by the user (`πr²`).\n"
   ]
  },
  {
   "cell_type": "code",
   "execution_count": 5,
   "id": "3b521755",
   "metadata": {},
   "outputs": [
    {
     "name": "stdout",
     "output_type": "stream",
     "text": [
      "50.24\n"
     ]
    }
   ],
   "source": [
    "# TODO: Write your solution here\n",
    "rad = int(input(\"Enter radius: \"))\n",
    "area = (3.14 * (rad*rad))\n",
    "print(area)"
   ]
  },
  {
   "cell_type": "markdown",
   "id": "b0145273",
   "metadata": {},
   "source": [
    "### Task 5\n",
    "Read three integers and print their average.\n"
   ]
  },
  {
   "cell_type": "code",
   "execution_count": 6,
   "id": "3e277fe1",
   "metadata": {},
   "outputs": [
    {
     "name": "stdout",
     "output_type": "stream",
     "text": [
      "28.0\n"
     ]
    }
   ],
   "source": [
    "# TODO: Write your solution here\n",
    "a = int(input(\"enter a: \"))\n",
    "b = int(input(\"enter b: \"))\n",
    "c = int(input(\"enter c: \"))\n",
    "aver = ((a * b * c) / 3)\n",
    "print(aver)"
   ]
  },
  {
   "cell_type": "markdown",
   "id": "b6da0780",
   "metadata": {},
   "source": [
    "### Task 6\n",
    "Convert seconds into hours, minutes, and seconds.\n"
   ]
  },
  {
   "cell_type": "code",
   "execution_count": 7,
   "id": "a453d8ca",
   "metadata": {},
   "outputs": [
    {
     "name": "stdout",
     "output_type": "stream",
     "text": [
      "seconds:360, minutes:6.0 and hours:0.1\n"
     ]
    }
   ],
   "source": [
    "# TODO: Write your solution here\n",
    "sec = int(input(\"enter seconds: \"))\n",
    "minutes = sec/60\n",
    "hours = minutes/60\n",
    "print(f\"seconds:{sec}, minutes:{minutes} and hours:{hours}\")"
   ]
  },
  {
   "cell_type": "markdown",
   "id": "2b037d55",
   "metadata": {},
   "source": [
    "### Task 7\n",
    "Compute the hypotenuse of a right triangle given legs `a` and `b`.\n"
   ]
  },
  {
   "cell_type": "code",
   "execution_count": 10,
   "id": "a0301a8b",
   "metadata": {},
   "outputs": [
    {
     "name": "stdout",
     "output_type": "stream",
     "text": [
      "180\n"
     ]
    }
   ],
   "source": [
    "# TODO: Write your solution here\n",
    "a = int(input(\"enter a: \"))\n",
    "b = int(input(\"enter b: \"))\n",
    "c = ((a*a)+(b*b))\n",
    "print(c)\n",
    "\n"
   ]
  },
  {
   "cell_type": "markdown",
   "id": "335be356",
   "metadata": {},
   "source": [
    "### Task 8\n",
    "Given a float number, print its integer and fractional parts.\n"
   ]
  },
  {
   "cell_type": "code",
   "execution_count": null,
   "id": "31bba2b9",
   "metadata": {},
   "outputs": [],
   "source": [
    "# TODO: Write your solution here\n"
   ]
  },
  {
   "cell_type": "markdown",
   "id": "cdd1dd8d",
   "metadata": {},
   "source": [
    "### Task 9\n",
    "Calculate the weighted average of three numbers with given weights.\n"
   ]
  },
  {
   "cell_type": "code",
   "execution_count": null,
   "id": "3bc42f91",
   "metadata": {},
   "outputs": [],
   "source": [
    "# TODO: Write your solution here\n"
   ]
  },
  {
   "cell_type": "markdown",
   "id": "12cea7b0",
   "metadata": {},
   "source": [
    "### Task 10\n",
    "Evaluate the expression `y = x³ - 2x² + 5x - 7` for a given `x`.\n"
   ]
  },
  {
   "cell_type": "code",
   "execution_count": null,
   "id": "5dc86167",
   "metadata": {},
   "outputs": [],
   "source": [
    "# TODO: Write your solution here\n"
   ]
  }
 ],
 "metadata": {
  "kernelspec": {
   "display_name": "base",
   "language": "python",
   "name": "python3"
  },
  "language_info": {
   "codemirror_mode": {
    "name": "ipython",
    "version": 3
   },
   "file_extension": ".py",
   "mimetype": "text/x-python",
   "name": "python",
   "nbconvert_exporter": "python",
   "pygments_lexer": "ipython3",
   "version": "3.13.5"
  }
 },
 "nbformat": 4,
 "nbformat_minor": 5
}
