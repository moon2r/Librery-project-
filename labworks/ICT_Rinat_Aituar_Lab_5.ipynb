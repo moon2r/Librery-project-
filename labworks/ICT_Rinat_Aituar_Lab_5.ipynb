{
 "cells": [
  {
   "cell_type": "markdown",
   "id": "88219f61",
   "metadata": {},
   "source": [
    "# Lab: Functions, Recursion, Lambda, Generators, Map & Reduce\n",
    "\n",
    "**Total tasks:** 15 (suggested: 0.2 pt each → 3.0 pts)  \n",
    "**Prepared:** 2025-10-06 04:33\n",
    "\n",
    "This lab follows our discussion: basic functions & scope → recursion → lambda → generators → `map`/`reduce`.\n",
    "Complete each task in the provided code cell marked with **TODO**.\n"
   ]
  },
  {
   "cell_type": "markdown",
   "id": "53919af5",
   "metadata": {},
   "source": [
    "## Instructions\n",
    "- Write clear, readable code (PEP 8).  \n",
    "- Prefer **`return`** over `print` unless the task explicitly asks to print.   \n",
    "- Before submitting: **Restart & Run All** to verify correctness.\n",
    "- Filename format: `Lab_Functional_Surname_Initials.ipynb`.\n"
   ]
  },
  {
   "cell_type": "markdown",
   "id": "2f1235f6",
   "metadata": {},
   "source": [
    "\n",
    "\n",
    "## 1. What is a Function?\n",
    "\n",
    "A **function** is a named, reusable block of code that performs a specific task.  \n",
    "Functions allow programmers to divide complex problems into smaller, manageable parts, improving readability and reducing repetition.\n",
    "\n",
    "```python\n",
    "def function_name(parameters):\n",
    "    # function body\n",
    "    statement(s)\n",
    "    return value\n",
    "```\n",
    "\n",
    "---\n",
    "\n",
    "## 2. Function Invocation\n",
    "\n",
    "```python\n",
    "def greet():\n",
    "    print(\"Hello!\")\n",
    "\n",
    "greet()\n",
    "```\n",
    "\n",
    "---\n",
    "\n",
    "## 3. Parameters and Arguments\n",
    "\n",
    "Functions can accept **parameters** and take **arguments** when called.\n",
    "\n",
    "```python\n",
    "def add(a, b):\n",
    "    return a + b\n",
    "\n",
    "print(add(3, 5))\n",
    "```\n",
    "\n",
    "Parameter types:\n",
    "1. Positional arguments  \n",
    "2. Keyword arguments  \n",
    "3. Default arguments  \n",
    "4. Variable-length (`*args`, `**kwargs`)\n",
    "\n",
    "---\n",
    "\n",
    "## 4. Return Statement\n",
    "\n",
    "A function can **return** a value to the caller using `return`.\n",
    "\n",
    "```python\n",
    "def multiply(a, b):\n",
    "    return a * b\n",
    "```\n",
    "\n",
    "Multiple values can also be returned:\n",
    "\n",
    "```python\n",
    "def stats(a, b, c):\n",
    "    return min(a, b, c), max(a, b, c), (a + b + c) / 3\n",
    "```\n",
    "\n",
    "---\n",
    "\n",
    "## 5. Variable Scope\n",
    "\n",
    "Variables have **local** or **global** scope.\n",
    "\n",
    "```python\n",
    "x = 10  # global\n",
    "\n",
    "def show():\n",
    "    x = 5  # local\n",
    "    print(\"Inside:\", x)\n",
    "\n",
    "show()\n",
    "print(\"Outside:\", x)\n",
    "```\n",
    "\n",
    "To modify a global variable inside a function:\n",
    "```python\n",
    "count = 0\n",
    "\n",
    "def increment():\n",
    "    global count\n",
    "    count += 1\n",
    "```\n",
    "\n",
    "---\n",
    "\n",
    "## 6. Why Use Functions?\n",
    "\n",
    ">- Reusability  \n",
    ">- Modularity  \n",
    ">- Maintainability  \n",
    ">- Readability  \n",
    "\n",
    "---\n",
    "\n",
    "## 7. Recursion: Definition\n",
    "\n",
    "**Recursion** is a function calling itself to solve a smaller instance of the same problem.\n",
    "\n",
    "Each recursive function must have:\n",
    "1. **Base case** — condition that stops recursion  \n",
    "2. **Recursive case** — step that reduces the problem size\n",
    "\n",
    "---\n",
    "\n",
    "## 8. Example — Factorial\n",
    "\n",
    "```python\n",
    "def factorial(n):\n",
    "    if n == 0:\n",
    "        return 1\n",
    "    else:\n",
    "        return n * factorial(n - 1)\n",
    "```\n",
    "\n",
    "---\n",
    "\n",
    "## 9. Example — Fibonacci\n",
    "\n",
    "```python\n",
    "def fibonacci(n):\n",
    "    if n <= 1:\n",
    "        return n\n",
    "    return fibonacci(n-1) + fibonacci(n-2)\n",
    "```\n",
    "\n",
    "---\n",
    "\n",
    "## 10. Characteristics of Recursion\n",
    "\n",
    "| Concept | Description |\n",
    "|----------|--------------|\n",
    "| Base case | Stops recursive calls |\n",
    "| Recursive case | Reduces problem size |\n",
    "| Call stack | Stores each function call |\n",
    "| Termination | Prevents infinite recursion |\n",
    "\n",
    "---\n",
    "\n",
    "## 11. Recursion vs Iteration\n",
    "\n",
    "| Aspect | Recursion | Iteration |\n",
    "|---------|------------|-----------|\n",
    "| Approach | Function calls itself | Loop repeats a block |\n",
    "| Memory use | Higher (call stack) | Lower |\n",
    "| Speed | Slower | Faster |\n",
    "| Readability | More elegant for hierarchical problems | Simpler for linear repetition |\n",
    "\n",
    "---\n",
    "\n",
    "## 12. When to Use Recursion\n",
    "\n",
    "- Working with **nested structures** (directories, trees)  \n",
    "- Mathematical tasks (factorial, Fibonacci, power)  \n",
    "- Divide-and-conquer algorithms (merge sort, quick sort)  \n",
    "- Backtracking (maze solving, N-Queens)\n"
   ]
  },
  {
   "cell_type": "markdown",
   "id": "5e7f5d17",
   "metadata": {},
   "source": [
    "## Lambda Functions\n",
    "\n",
    "**Definition:** A *lambda function* is a short, anonymous function defined with the `lambda` keyword.\n",
    "\n",
    "**Syntax:**\n",
    "```python\n",
    "lambda args: expression\n",
    "```\n",
    "- No `def`, no explicit `return` — the result of the **expression** is returned automatically.\n",
    "- Best for simple, one-off transformations passed to higher-order functions (e.g., `map`, `sorted`, `filter`).\n",
    "\n",
    "**When to use:**\n",
    "- You need a very small function for a limited scope.\n",
    "- Readability stays clear with a single expression.\n",
    "\n",
    "**When *not* to use:**\n",
    "- Multi-step logic, loops, multiple `if` branches → prefer `def` + docstring.\n"
   ]
  },
  {
   "cell_type": "code",
   "execution_count": null,
   "id": "b1651808",
   "metadata": {},
   "outputs": [],
   "source": [
    "# Basic examples\n",
    "square = lambda x: x * x\n",
    "add = lambda a, b: a + b\n",
    "fmt = lambda name: f\"Hello, {name}!\"\n",
    "\n",
    "print(square(5))     # 25\n",
    "print(add(3, 7))     # 10\n",
    "print(fmt(\"Aigerim\"))  # Hello, Aigerim!\n",
    "\n",
    "# Inline use (one-off call)\n",
    "print((lambda x: x + 10)(5))  # 15\n"
   ]
  },
  {
   "cell_type": "markdown",
   "id": "602308f1",
   "metadata": {},
   "source": [
    "**With `sorted` (custom key):**"
   ]
  },
  {
   "cell_type": "code",
   "execution_count": null,
   "id": "3640b405",
   "metadata": {},
   "outputs": [],
   "source": [
    "people = [(\"Ali\", 20), (\"Dana\", 25), (\"Serik\", 18)]\n",
    "# sort by age\n",
    "by_age = sorted(people, key=lambda p: p[1])\n",
    "by_name_desc = sorted(people, key=lambda p: p[0], reverse=True)\n",
    "\n",
    "print(by_age)\n",
    "print(by_name_desc)"
   ]
  },
  {
   "cell_type": "markdown",
   "id": "9ee1ae47",
   "metadata": {},
   "source": [
    "## Generators and `yield`\n",
    "\n",
    "**Generators** are special functions that **yield** values one-by-one **on demand** (lazy evaluation), *remembering their state* between iterations.\n",
    "\n",
    "**Why they help:**\n",
    "- **Memory efficient:** do not materialize full lists.\n",
    "- **Responsive:** start producing values immediately (useful for large files/streams).\n",
    "- **Infinite sequences:** feasible because values are generated as needed.\n",
    "\n",
    "**Key ideas:**\n",
    "- `yield` pauses the function, returning a value; subsequent iteration resumes right after `yield`.\n",
    "- When the function finishes, it raises `StopIteration` internally to signal the end.\n"
   ]
  },
  {
   "cell_type": "code",
   "execution_count": null,
   "id": "ef45539e",
   "metadata": {},
   "outputs": [],
   "source": [
    "def countdown(n):\n",
    "    while n > 0:\n",
    "        yield n      # pause & return current value\n",
    "        n -= 1       # state is preserved between iterations\n",
    "\n",
    "for val in countdown(5):\n",
    "    print(val)\n"
   ]
  },
  {
   "cell_type": "markdown",
   "id": "d0ea328f",
   "metadata": {},
   "source": [
    "**Reading a large file line-by-line (pattern):**"
   ]
  },
  {
   "cell_type": "code",
   "execution_count": null,
   "id": "734e6801",
   "metadata": {},
   "outputs": [],
   "source": [
    "# NOTE: This is a pattern; it will error here if 'data.txt' doesn't exist.\n",
    "# def read_lines(path):\n",
    "#     with open(path, 'r', encoding='utf-8') as f:\n",
    "#         for line in f:\n",
    "#             yield line.rstrip(\"\\n\")\n",
    "\n",
    "# for i, line in enumerate(read_lines('data.txt')):\n",
    "#     if i >= 3: break\n",
    "#     print(line)\n"
   ]
  },
  {
   "cell_type": "markdown",
   "id": "5c4f8069",
   "metadata": {},
   "source": [
    "**Generator expressions** (concise syntax, like a lazy list-comprehension):"
   ]
  },
  {
   "cell_type": "code",
   "execution_count": null,
   "id": "c9a55558",
   "metadata": {},
   "outputs": [],
   "source": [
    "gen = (x * x for x in range(5))   # parentheses → generator expression\n",
    "print(next(gen))   # 0\n",
    "print(next(gen))   # 1\n",
    "print(list(gen))   # remaining values: [4, 9, 16]\n"
   ]
  },
  {
   "cell_type": "markdown",
   "id": "0eadfc0c",
   "metadata": {},
   "source": [
    "## `map(func, iterable)` — transform each element\n",
    "\n",
    "`map` applies a function to **every element** of an iterable and returns a lazy iterator.\n",
    "\n",
    "**Signature:** `map(function, iterable, ...)`\n",
    "\n",
    "**Typical use cases:**\n",
    "- Element-wise transformation without writing an explicit loop.\n",
    "- Compose with `list`, `tuple`, `set` to materialize the results.\n"
   ]
  },
  {
   "cell_type": "code",
   "execution_count": null,
   "id": "44c44355",
   "metadata": {},
   "outputs": [],
   "source": [
    "numbers = [1, 2, 3, 4, 5]\n",
    "squares = list(map(lambda x: x**2, numbers))\n",
    "print(squares)  # [1, 4, 9, 16, 25]\n",
    "\n",
    "# Multiple iterables: map pairs element-wise\n",
    "a = [1, 2, 3]\n",
    "b = [10, 20, 30]\n",
    "sums = list(map(lambda x, y: x + y, a, b))\n",
    "print(sums)  # [11, 22, 33]\n"
   ]
  },
  {
   "cell_type": "markdown",
   "id": "f1ac753a",
   "metadata": {},
   "source": [
    "## `reduce(func, iterable, initial=None)` — fold to a single value\n",
    "\n",
    "`reduce` (from `functools`) repeatedly applies a **binary function** to the items of an iterable, *accumulating* to a single result.\n",
    "\n",
    "**Signature:** `reduce(function, iterable, initial)`\n",
    "\n",
    "- If `initial` is provided, the accumulation starts with it.\n",
    "- Common patterns: sum, product, min/max, string concatenation, merging structures.\n"
   ]
  },
  {
   "cell_type": "code",
   "execution_count": null,
   "id": "76d203d9",
   "metadata": {},
   "outputs": [],
   "source": [
    "from functools import reduce\n",
    "\n",
    "nums = [1, 2, 3, 4]\n",
    "product = reduce(lambda x, y: x * y, nums)\n",
    "print(product)  # 24\n",
    "\n",
    "# With an initial value:\n",
    "product_with_init = reduce(lambda x, y: x * y, nums, 10)  # 10 * 1 * 2 * 3 * 4 = 240\n",
    "print(product_with_init)\n",
    "\n",
    "# Max via reduce (for illustration; use built-in max in real code)\n",
    "max_val = reduce(lambda x, y: x if x > y else y, nums)\n",
    "print(max_val)  # 4\n"
   ]
  },
  {
   "cell_type": "markdown",
   "id": "311cfd87",
   "metadata": {},
   "source": [
    "## Part 1 — Functions & Scope"
   ]
  },
  {
   "cell_type": "markdown",
   "id": "98d404a3",
   "metadata": {},
   "source": [
    "### Task 1. Hello Function\n",
    "Define `hello()` that prints `Hello, World!` and call it once."
   ]
  },
  {
   "cell_type": "code",
   "execution_count": 2,
   "id": "34766ec2",
   "metadata": {},
   "outputs": [
    {
     "name": "stdout",
     "output_type": "stream",
     "text": [
      "Hello, World!\n"
     ]
    }
   ],
   "source": [
    "# TODO\n",
    "def hello():\n",
    "    print(\"Hello, World!\")\n",
    "    \n",
    "hello()\n"
   ]
  },
  {
   "cell_type": "markdown",
   "id": "aa8dc57a",
   "metadata": {},
   "source": [
    "### Task 2. Greet by Name\n",
    "Define `greet(name)` that prints `Hello, <name>!` and call it with your name."
   ]
  },
  {
   "cell_type": "code",
   "execution_count": 5,
   "id": "db3f77e7",
   "metadata": {},
   "outputs": [
    {
     "name": "stdout",
     "output_type": "stream",
     "text": [
      "Hello, Aituar!\n"
     ]
    }
   ],
   "source": [
    "# TODO\n",
    "name = input(\"Enter your name: \")\n",
    "def greet(name):\n",
    "    print(f\"Hello, {name}!\")\n",
    "\n",
    "greet(name)\n",
    "    \n"
   ]
  },
  {
   "cell_type": "markdown",
   "id": "06ca8f2b",
   "metadata": {},
   "source": [
    "### Task 3. Return vs Print\n",
    "Define `square(x)` that **returns** `x*x`. Show the result for `x=7`."
   ]
  },
  {
   "cell_type": "code",
   "execution_count": 9,
   "id": "02888929",
   "metadata": {},
   "outputs": [
    {
     "name": "stdout",
     "output_type": "stream",
     "text": [
      "49\n"
     ]
    }
   ],
   "source": [
    "# TODO\n",
    "x = 7\n",
    "def square(x):\n",
    "    print(x*x)\n",
    "square(x)\n"
   ]
  },
  {
   "cell_type": "markdown",
   "id": "86798214",
   "metadata": {},
   "source": [
    "### Task 4. Multiple Returns\n",
    "Define `stats(a, b, c)` returning `(min, max, avg)`. Unpack and print them."
   ]
  },
  {
   "cell_type": "code",
   "execution_count": 12,
   "id": "b5f41765",
   "metadata": {},
   "outputs": [
    {
     "name": "stdout",
     "output_type": "stream",
     "text": [
      "Min: 4, Max: 6, Average: 5.0\n"
     ]
    }
   ],
   "source": [
    "# TODO\n",
    "a = int(input(\"Enter your first number: \"))\n",
    "b = int(input(\"Enter your second number: \"))\n",
    "c = int(input(\"Enter your third number: \"))\n",
    "def stats(a, b, c):\n",
    "    return min(a, b, c), max(a, b, c), (a+b+c) / 3\n",
    "\n",
    "result = stats(a, b, c)\n",
    "\n",
    "print(f\"Min: {result[0]}, Max: {result[1]}, Average: {result[2]}\")\n",
    "    \n"
   ]
  },
  {
   "cell_type": "markdown",
   "id": "9ea02a59",
   "metadata": {},
   "source": [
    "### Task 5. Scope (Local vs Global)\n",
    "Let `x = 10` globally. Inside `show_local()` define local `x = 5` and print both (inside & outside)."
   ]
  },
  {
   "cell_type": "code",
   "execution_count": 2,
   "id": "275ac551",
   "metadata": {},
   "outputs": [
    {
     "name": "stdout",
     "output_type": "stream",
     "text": [
      "5\n",
      "10\n"
     ]
    }
   ],
   "source": [
    "# TODO\n",
    "x = 10\n",
    "\n",
    "def show_local():\n",
    "    x = 5\n",
    "    print(x)\n",
    "\n",
    "show_local()\n",
    "print(x)\n"
   ]
  },
  {
   "cell_type": "markdown",
   "id": "070831ef",
   "metadata": {},
   "source": [
    "## Part 2 — Recursion"
   ]
  },
  {
   "cell_type": "markdown",
   "id": "5d2cb295",
   "metadata": {},
   "source": [
    "### Task 6. Countdown (Recursive)\n",
    "Implement `countdown(n)` that prints from `n` to `1`, then prints `Liftoff!`."
   ]
  },
  {
   "cell_type": "code",
   "execution_count": 8,
   "id": "e3540a62",
   "metadata": {},
   "outputs": [
    {
     "name": "stdout",
     "output_type": "stream",
     "text": [
      "5\n",
      "4\n",
      "3\n",
      "2\n",
      "1\n",
      "Liftoff!\n"
     ]
    }
   ],
   "source": [
    "# TODO\n",
    "def countdown(n):\n",
    "    while n > 0:\n",
    "        yield n      \n",
    "        n -= 1      \n",
    "\n",
    "for val in countdown(5):\n",
    "    print(val)    \n",
    "\n",
    "print(\"Liftoff!\")\n",
    "\n"
   ]
  },
  {
   "cell_type": "markdown",
   "id": "849cca63",
   "metadata": {},
   "source": [
    "### Task 7. Factorial (Recursive)\n",
    "Implement `factorial(n)`; raise `ValueError` if `n < 0`. Show `factorial(5)`."
   ]
  },
  {
   "cell_type": "code",
   "execution_count": 9,
   "id": "d8d1fec7",
   "metadata": {},
   "outputs": [
    {
     "name": "stdout",
     "output_type": "stream",
     "text": [
      "120\n"
     ]
    }
   ],
   "source": [
    "# TODO\n",
    "def factorial(n):\n",
    "    if n==0:\n",
    "        return 1\n",
    "    else:\n",
    "        return n * factorial(n-1)\n",
    "    \n",
    "print(factorial(5))\n"
   ]
  },
  {
   "cell_type": "markdown",
   "id": "c961eecc",
   "metadata": {},
   "source": [
    "### Task 8. Sum of Digits (Recursive)\n",
    "Implement `sum_digits(n)` that returns the sum of digits of a non-negative integer."
   ]
  },
  {
   "cell_type": "code",
   "execution_count": 12,
   "id": "40c5e318",
   "metadata": {},
   "outputs": [
    {
     "name": "stdout",
     "output_type": "stream",
     "text": [
      "6\n"
     ]
    }
   ],
   "source": [
    "# TODO\n",
    "def sum_digits(n):\n",
    "    if n < 10:\n",
    "        return n\n",
    "    return n % 10 + sum_digits(n // 10)\n",
    "\n",
    "print(sum_digits(132))"
   ]
  },
  {
   "cell_type": "markdown",
   "id": "51c33cdb",
   "metadata": {},
   "source": [
    "### Task 9. Power (Recursive)\n",
    "Implement `power(a, b)` returning `a^b` recursively (assume `b >= 0`)."
   ]
  },
  {
   "cell_type": "code",
   "execution_count": 21,
   "id": "8b215cf2",
   "metadata": {},
   "outputs": [
    {
     "name": "stdout",
     "output_type": "stream",
     "text": [
      "32\n"
     ]
    }
   ],
   "source": [
    "# TODO\n",
    "def power(a, b):\n",
    "    if b < 0:\n",
    "        return 0 \n",
    "    if b == 0:\n",
    "        return 1\n",
    "    else:\n",
    "        return a**b\n",
    "    \n",
    "print(power(2, 5))\n"
   ]
  },
  {
   "cell_type": "markdown",
   "id": "8c51742d",
   "metadata": {},
   "source": [
    "### Task 10. Fibonacci (Recursive)\n",
    "Implement `fibonacci(n)` returning the n-th Fibonacci number (0-indexed). Print first 10 numbers."
   ]
  },
  {
   "cell_type": "code",
   "execution_count": 22,
   "id": "313b40a6",
   "metadata": {},
   "outputs": [
    {
     "name": "stdout",
     "output_type": "stream",
     "text": [
      "0\n",
      "1\n",
      "1\n",
      "2\n",
      "3\n",
      "5\n",
      "8\n",
      "13\n",
      "21\n",
      "34\n"
     ]
    }
   ],
   "source": [
    "# TODO\n",
    "def fibonacci(n):\n",
    "    if n <= 1:\n",
    "        return n\n",
    "    return fibonacci(n - 1) + fibonacci(n - 2)\n",
    "\n",
    "for i in range(10):\n",
    "    print(fibonacci(i))\n"
   ]
  },
  {
   "cell_type": "markdown",
   "id": "367402ba",
   "metadata": {},
   "source": [
    "## Part 3 — Lambda & Higher-Order Functions"
   ]
  },
  {
   "cell_type": "markdown",
   "id": "4eaf59ce",
   "metadata": {},
   "source": [
    "### Task 11. Lambda Basics\n",
    "Create lambdas: `square`, `add`, and `last3` (returns last 3 chars). Demonstrate them."
   ]
  },
  {
   "cell_type": "code",
   "execution_count": 26,
   "id": "e52af153",
   "metadata": {},
   "outputs": [
    {
     "name": "stdout",
     "output_type": "stream",
     "text": [
      "25\n",
      "7\n",
      "rld\n"
     ]
    }
   ],
   "source": [
    "# TODO\n",
    "square = lambda x: x * x\n",
    "add = lambda a, b: a + b\n",
    "last3 = lambda s: s[-3:]\n",
    "\n",
    "print(square(5))\n",
    "print(add(3, 4))\n",
    "print(last3(\"hello world\"))\n"
   ]
  },
  {
   "cell_type": "markdown",
   "id": "0847b00b",
   "metadata": {},
   "source": [
    "### Task 12. `map` with Lambda\n",
    "Given `numbers = [1,2,3,4,5]`, use `map` + lambda to produce squares and cubes."
   ]
  },
  {
   "cell_type": "code",
   "execution_count": 28,
   "id": "d94ec7a8",
   "metadata": {},
   "outputs": [
    {
     "name": "stdout",
     "output_type": "stream",
     "text": [
      "[1, 4, 9, 16, 25]\n"
     ]
    }
   ],
   "source": [
    "# TODO\n",
    "numbers = [1, 2, 3, 4, 5]\n",
    "squares = list(map(lambda x: x**2, numbers))\n",
    "print(squares)"
   ]
  },
  {
   "cell_type": "markdown",
   "id": "bbec0c5f",
   "metadata": {},
   "source": [
    "### Task 13. `map` over Multiple Iterables\n",
    "Given `a=[1,2,3]`, `b=[10,20,30]`, make `sums=[11,22,33]` using `map` + lambda."
   ]
  },
  {
   "cell_type": "code",
   "execution_count": 29,
   "id": "64a76c92",
   "metadata": {},
   "outputs": [
    {
     "name": "stdout",
     "output_type": "stream",
     "text": [
      "[11, 22, 33]\n"
     ]
    }
   ],
   "source": [
    "# TODO\n",
    "a=[1,2,3]\n",
    "b=[10,20,30]\n",
    "\n",
    "sums = list(map(lambda x, y: x + y, a, b))\n",
    "\n",
    "print(sums)"
   ]
  },
  {
   "cell_type": "markdown",
   "id": "f472a15d",
   "metadata": {},
   "source": [
    "## Part 4 — Generators (`yield`) & Reduce"
   ]
  },
  {
   "cell_type": "markdown",
   "id": "7e68bbd5",
   "metadata": {},
   "source": [
    "### Task 14. Generator of Even Numbers\n",
    "Write generator `even_numbers(n)` yielding even numbers up to `n` (inclusive). Show for `n=12`."
   ]
  },
  {
   "cell_type": "code",
   "execution_count": 30,
   "id": "0470e6e4",
   "metadata": {},
   "outputs": [
    {
     "name": "stdout",
     "output_type": "stream",
     "text": [
      "0\n",
      "2\n",
      "4\n",
      "6\n",
      "8\n",
      "10\n",
      "12\n"
     ]
    }
   ],
   "source": [
    "# TODO\n",
    "def even_numbers(n):\n",
    "    for i in range(0, n + 1, 2):\n",
    "        yield i\n",
    "\n",
    "for num in even_numbers(12):\n",
    "    print(num)"
   ]
  },
  {
   "cell_type": "markdown",
   "id": "e7eadd84",
   "metadata": {},
   "source": [
    "### Task 15. `reduce` — Sum of Squares\n",
    "Using `reduce`, compute the sum of squares of `[1,2,3,4]` (**30**). Optionally, combine `map` + `reduce`."
   ]
  },
  {
   "cell_type": "code",
   "execution_count": null,
   "id": "dff737ca",
   "metadata": {},
   "outputs": [
    {
     "name": "stdout",
     "output_type": "stream",
     "text": [
      "30\n"
     ]
    }
   ],
   "source": [
    "# TODO\n",
    "from functools import reduce\n",
    "\n",
    "numbers = [1, 2, 3, 4]\n",
    "\n",
    "result = reduce(lambda x, y: x + y, map(lambda x: x * x, numbers))\n",
    "\n",
    "print(result)"
   ]
  }
 ],
 "metadata": {
  "kernelspec": {
   "display_name": "base",
   "language": "python",
   "name": "python3"
  },
  "language_info": {
   "codemirror_mode": {
    "name": "ipython",
    "version": 3
   },
   "file_extension": ".py",
   "mimetype": "text/x-python",
   "name": "python",
   "nbconvert_exporter": "python",
   "pygments_lexer": "ipython3",
   "version": "3.13.5"
  }
 },
 "nbformat": 4,
 "nbformat_minor": 5
}
