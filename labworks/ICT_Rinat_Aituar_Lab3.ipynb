{
 "cells": [
  {
   "cell_type": "markdown",
   "id": "0abe1ba6",
   "metadata": {},
   "source": [
    "# ICT Course — **Lab 3: Loops**\n",
    "\n",
    "**Topic:** `for` with `range()`, counter variables, off‑by‑one errors, accumulators, `while` as a counter loop, `break`/`continue` (minimal).  \n",
    "**Format:** Jupyter Notebook (Python 3).  \n",
    "**Assessment:** 15 tasks × 0.2 points = **3.0 points**.\n",
    "\n",
    "> **Rules**\n",
    "> - Solve each task in its own cell.\n",
    "> - Each task is **independent**. Run cells one by one.\n",
    "> - Keep input and output clear: use `input()` where required and print only what is asked.\n",
    "> - File name for submission: `lab3_Surname_Initials.ipynb`.\n",
    "> \n",
    "\n",
    "\n",
    "---\n",
    "\n",
    "## Learning Objectives\n",
    "By the end of this lab you will be able to:\n",
    "1. Write counter‑based loops using `for range(start, stop, step)`.\n",
    "2. Translate `for` loops into equivalent `while` loops with explicit counters.\n",
    "3. Build accumulators (sum, product) and counters (frequency) safely.\n",
    "4. Avoid typical off‑by‑one mistakes and handle integer division where needed.\n",
    "5. Use `break`/`continue` sparingly to control the loop flow.\n"
   ]
  },
  {
   "cell_type": "markdown",
   "id": "56be5768",
   "metadata": {},
   "source": [
    "## Quick Theory\n",
    "\n",
    "### 1. `for` with `range()`\n",
    "- `range(stop)` → `0, 1, ..., stop-1`\n",
    "- `range(start, stop)` → `start, start+1, ..., stop-1`\n",
    "- `range(start, stop, step)` → arithmetic sequence up to but **excluding** `stop`.\n",
    "\n",
    "```python\n",
    "for i in range(5):          # 0..4 (5 numbers)\n",
    "    print(i)\n",
    "\n",
    "for i in range(2, 6):       # 2..5\n",
    "    print(i)\n",
    "\n",
    "for i in range(10, 0, -2):  # 10, 8, 6, 4, 2\n",
    "    print(i)\n",
    "```\n",
    "\n",
    "### 2. Accumulators and Counters\n",
    "Initialize **before** the loop, update **inside** the loop, use after the loop.\n",
    "```python\n",
    "total = 0\n",
    "for i in range(1, n + 1):\n",
    "    total += i\n",
    "print(total)\n",
    "```\n",
    "\n",
    "### 3. Counter‑based `while`\n",
    "```python\n",
    "i = 1\n",
    "while i <= n:\n",
    "    # work with i\n",
    "    i += 1  # update counter\n",
    "```\n",
    "\n",
    "### 4. Off‑by‑one\n",
    "Always double‑check boundaries: inclusive `<=` vs exclusive `<`, and `range(..., stop)` excludes `stop`.\n"
   ]
  },
  {
   "cell_type": "markdown",
   "id": "39aae489",
   "metadata": {},
   "source": [
    "### Task 1. Sum of the first N integers\n",
    "\n",
    "Read an integer `N` (N ≥ 1). Print the sum `1 + 2 + ... + N`.\n",
    "\n",
    "**Hints:**\n",
    "- Use `for i in range(1, N+1)`.\n",
    "- Initialize `total = 0` before the loop."
   ]
  },
  {
   "cell_type": "code",
   "execution_count": 3,
   "id": "895da2a0",
   "metadata": {},
   "outputs": [
    {
     "name": "stdout",
     "output_type": "stream",
     "text": [
      "1\n",
      "3\n",
      "6\n",
      "10\n",
      "15\n",
      "21\n",
      "28\n",
      "36\n",
      "45\n",
      "55\n"
     ]
    }
   ],
   "source": [
    "# Input: single integer N (>=1)\n",
    "N = int(input().strip())\n",
    "total = 0\n",
    "\n",
    "for i in range(1, N+1):\n",
    "    total += i\n",
    "    print(total)\n",
    "\n",
    "# TODO: accumulate the sum from 1 to N\n"
   ]
  },
  {
   "cell_type": "markdown",
   "id": "e9a5c883",
   "metadata": {},
   "source": [
    "### Task 2. Factorial\n",
    "\n",
    "Read `N` (0 ≤ N ≤ 20). Print `N!` (product of integers from 1 to N).\n",
    "\n",
    "**Hints:**\n",
    "- Initialize product with `1`.\n",
    "- Multiplying by numbers from 1..N."
   ]
  },
  {
   "cell_type": "code",
   "execution_count": null,
   "id": "cba980d7",
   "metadata": {},
   "outputs": [
    {
     "name": "stdout",
     "output_type": "stream",
     "text": [
      "1\n",
      "2\n",
      "6\n",
      "24\n",
      "120\n",
      "720\n",
      "5040\n",
      "40320\n",
      "362880\n",
      "3628800\n"
     ]
    }
   ],
   "source": [
    "N = int(input().strip())\n",
    "fact = 1\n",
    "if N > 20 or N < 0:\n",
    "    print(\"error\")\n",
    "else:\n",
    "    for i in range(1 ,  N+1):\n",
    "        fact *= i\n",
    "        print(fact)\n",
    "\n",
    "#TODO: Factorial of N"
   ]
  },
  {
   "cell_type": "markdown",
   "id": "39cc3fb1",
   "metadata": {},
   "source": [
    "### Task 3. Sum of multiples\n",
    "\n",
    "Read integers `N` and `K` (N ≥ 1, K ≥ 1). Print the sum of all multiples of `K` not exceeding `N`."
   ]
  },
  {
   "cell_type": "code",
   "execution_count": null,
   "id": "78a9e161",
   "metadata": {},
   "outputs": [
    {
     "name": "stdout",
     "output_type": "stream",
     "text": [
      "378840\n"
     ]
    }
   ],
   "source": [
    "N = int(input().strip())\n",
    "K = int(input().strip())\n",
    "summa = 0\n",
    "for x in range(K , N + 1, K):\n",
    "    summa += x\n",
    "\n",
    "print(summa)\n",
    "\n",
    "#TODO: Print sum of all multiples of K from 1 to N"
   ]
  },
  {
   "cell_type": "markdown",
   "id": "ca45ec8f",
   "metadata": {},
   "source": [
    "### Task 4. Count digits\n",
    "\n",
    "Read a non‑negative integer `X`. Print the number of digits in `X`. For `X = 0`, the answer is `1`.\n",
    "\n",
    "**Hints:**\n",
    "- Either convert to string or use a loop dividing by 10.\n",
    "- Counter‑based `while` is encouraged here."
   ]
  },
  {
   "cell_type": "code",
   "execution_count": 12,
   "id": "62fb594f",
   "metadata": {},
   "outputs": [
    {
     "name": "stdout",
     "output_type": "stream",
     "text": [
      "2\n"
     ]
    }
   ],
   "source": [
    "X = int(input().strip())\n",
    "if X == 0:\n",
    "    print(1)\n",
    "else:\n",
    "    count=0\n",
    "    while X > 0:\n",
    "        count += 1\n",
    "        X //= 10\n",
    "    print(count)\n",
    "\n",
    "#TODO: Print the sum of the digits of X\n"
   ]
  },
  {
   "cell_type": "markdown",
   "id": "5dacefb4",
   "metadata": {},
   "source": [
    "### Task 5. Reverse digits\n",
    "\n",
    "Read a non‑negative integer `X`. Print the integer obtained by reversing the digits of `X` (e.g., 1200 → 21).\n",
    "\n",
    "**Hints:**\n",
    "- Repeatedly take last digit with `% 10` and build the reverse.\n",
    "- Use `while X > 0`."
   ]
  },
  {
   "cell_type": "code",
   "execution_count": 15,
   "id": "f45a3621",
   "metadata": {},
   "outputs": [
    {
     "name": "stdout",
     "output_type": "stream",
     "text": [
      "21\n"
     ]
    }
   ],
   "source": [
    "X = int(input().strip())\n",
    "if X == 0:\n",
    "    print(1)\n",
    "else:\n",
    "    rev = 0\n",
    "    while X > 0:\n",
    "        digit = X % 10\n",
    "        rev = rev * 10 + digit\n",
    "        X //= 10\n",
    "\n",
    "    print(rev)\n",
    "\n",
    "#TODO: Print the integer obtained by reversing the digits of X"
   ]
  },
  {
   "cell_type": "markdown",
   "id": "ff3ffe48",
   "metadata": {},
   "source": [
    "### Task 6. Sum of digits\n",
    "\n",
    "Read a non‑negative integer `X`. Print the sum of its digits.\n",
    "\n",
    "**Hints:**\n",
    "- Use the same pattern as in Task 5.\n",
    "- Accumulate into `s`."
   ]
  },
  {
   "cell_type": "code",
   "execution_count": 16,
   "id": "ba865af5",
   "metadata": {},
   "outputs": [
    {
     "name": "stdout",
     "output_type": "stream",
     "text": [
      "6\n"
     ]
    }
   ],
   "source": [
    "X = int(input().strip())\n",
    "if X == 0:\n",
    "    print(1)\n",
    "else:\n",
    "    summa = 0\n",
    "    while X > 0:\n",
    "        digit = X % 10\n",
    "        summa += digit\n",
    "        X//= 10\n",
    "    print(summa)\n",
    "#TODO: Print the sum of the digits of X"
   ]
  },
  {
   "cell_type": "markdown",
   "id": "b4ad095f",
   "metadata": {},
   "source": [
    "### Task 7. Count even numbers in a sequence\n",
    "\n",
    "Read integer `N`, then read `N` integers. Print how many of them are even.\n",
    "\n",
    "**Hints:**\n",
    "- Counter pattern: initialize `cnt = 0`, increment if `x % 2 == 0`."
   ]
  },
  {
   "cell_type": "code",
   "execution_count": 21,
   "id": "01cb1eb1",
   "metadata": {},
   "outputs": [
    {
     "name": "stdout",
     "output_type": "stream",
     "text": [
      "3\n"
     ]
    }
   ],
   "source": [
    "N = int(input().strip())\n",
    "\n",
    "cnt = 0\n",
    "for x in range(N):\n",
    "     x = int(input().strip())\n",
    "     if x % 2 == 0:\n",
    "        cnt += 1\n",
    "\n",
    "print(cnt)\n",
    "\n",
    "#TODO: accumulate the sum from 1 to N"
   ]
  },
  {
   "cell_type": "markdown",
   "id": "67ba2991",
   "metadata": {},
   "source": [
    "### Task 8. Index of the first maximum\n",
    "\n",
    "Read integer `N`, then `N` integers. Print the **0‑based index** of the first occurrence of the maximum value.\n",
    "\n",
    "**Hints:**\n",
    "- Track both current maximum and its index.\n",
    "- Update on `>` only (not `>=`)."
   ]
  },
  {
   "cell_type": "code",
   "execution_count": 23,
   "id": "ed86892a",
   "metadata": {},
   "outputs": [
    {
     "name": "stdout",
     "output_type": "stream",
     "text": [
      "1\n"
     ]
    },
    {
     "data": {
      "text/plain": [
       "7"
      ]
     },
     "execution_count": 23,
     "metadata": {},
     "output_type": "execute_result"
    }
   ],
   "source": [
    "\n",
    "from sys import maxsize as INT_MIN\n",
    "N = int(input().strip())\n",
    "max_val = -INT_MIN-1\n",
    "max_index = -1\n",
    "# Don't change the code higher than this line\n",
    "\n",
    "for i in range(N):\n",
    "    x = int(input())\n",
    "    if x > max_val:\n",
    "        max_val = x\n",
    "        max_index = i\n",
    "\n",
    "print(max_index)\n",
    "\n",
    "#TODO: Print the 0-based index of the first occurrence of the maximum value\n",
    "max_val"
   ]
  },
  {
   "cell_type": "markdown",
   "id": "0f30eb12",
   "metadata": {},
   "source": [
    "### Task 9. Arithmetic mean\n",
    "\n",
    "Read integer `N`, then `N` real numbers. Print their arithmetic mean.\n"
   ]
  },
  {
   "cell_type": "code",
   "execution_count": null,
   "id": "ff1edd89",
   "metadata": {},
   "outputs": [
    {
     "name": "stdout",
     "output_type": "stream",
     "text": [
      "2.3333333333333335\n"
     ]
    }
   ],
   "source": [
    "# N = float(input().strip())\n",
    "# c float он на него у меня ругается , с интом работает так что я поменял:)\n",
    "N = int(input().strip())\n",
    "\n",
    "s = 0.0\n",
    "for _ in range(N):\n",
    "    x = float(input())\n",
    "    s += x\n",
    "\n",
    "mean = s / N\n",
    "print(mean)\n"
   ]
  },
  {
   "cell_type": "markdown",
   "id": "39cb0185",
   "metadata": {},
   "source": [
    "### Task 10. Powers table\n",
    "\n",
    "Read `N` (N ≥ 1). Print powers of 2 from `2^0` to `2^N` inclusive, one per line.\n"
   ]
  },
  {
   "cell_type": "code",
   "execution_count": 34,
   "id": "f37541f6",
   "metadata": {},
   "outputs": [
    {
     "name": "stdout",
     "output_type": "stream",
     "text": [
      "1\n",
      "2\n",
      "4\n",
      "8\n",
      "16\n",
      "32\n",
      "64\n",
      "128\n",
      "256\n",
      "512\n",
      "1024\n"
     ]
    }
   ],
   "source": [
    "N = int(input().strip())\n",
    "\n",
    "for i in range(N + 1):\n",
    "    print(2 ** i)\n",
    "\n",
    "#TODO: Print power of 2 to N (i.e. 2^N)"
   ]
  },
  {
   "cell_type": "markdown",
   "id": "969c6312",
   "metadata": {},
   "source": [
    "### Task 11. Multiplication table row\n",
    "\n",
    "Read integer `N`. Print the products `N × 1, N × 2, ..., N × 10` in one line separated by spaces."
   ]
  },
  {
   "cell_type": "code",
   "execution_count": 37,
   "id": "e3017535",
   "metadata": {},
   "outputs": [
    {
     "name": "stdout",
     "output_type": "stream",
     "text": [
      "7 14 21 28 35 42 49 56 63 70 "
     ]
    }
   ],
   "source": [
    "N = int(input().strip())\n",
    "\n",
    "for i in range(1, 11):\n",
    "\n",
    "    print(N * i, end=\" \")\n",
    "# TODO:\n"
   ]
  },
  {
   "cell_type": "code",
   "execution_count": 41,
   "id": "9029aab2",
   "metadata": {},
   "outputs": [
    {
     "name": "stdout",
     "output_type": "stream",
     "text": [
      "55\n"
     ]
    }
   ],
   "source": [
    "N = int(input().strip())\n",
    "\n",
    "a, b = 0, 1\n",
    "for i in range (N):\n",
    "    a, b = b, a + b\n",
    "print (a)\n",
    "\n",
    "#TODO: Fibonacci number F(N)\n"
   ]
  },
  {
   "cell_type": "markdown",
   "id": "4a8b84d0",
   "metadata": {},
   "source": [
    "### Task 13. Primality test (basic)\n",
    "\n",
    "Read integer `N` (N ≥ 2). Print `YES` if `N` is prime, otherwise `NO`.\n",
    "\n",
    "**Hints:**\n",
    "- Check divisors from 2..sqrt(N).\n",
    "- Use a flag variable or early `break`."
   ]
  },
  {
   "cell_type": "code",
   "execution_count": 44,
   "id": "fba8b1f2",
   "metadata": {},
   "outputs": [
    {
     "name": "stdout",
     "output_type": "stream",
     "text": [
      "YES\n"
     ]
    }
   ],
   "source": [
    "import math\n",
    "\n",
    "N = int(input().strip())\n",
    "\n",
    "prime = True\n",
    "for i in range(2, int(math.isqrt(N)) + 1):\n",
    "    if N % i == 0:\n",
    "        prime = False\n",
    "        break\n",
    "\n",
    "print(\"YES\" if prime else \"NO\")\n",
    "\n",
    "#TODO: Print Yes if N is prime, No otherwise\n"
   ]
  },
  {
   "cell_type": "markdown",
   "id": "331f654f",
   "metadata": {},
   "source": [
    "### Task 14. Number of divisors\n",
    "\n",
    "Read integer `N` (N ≥ 1). Print how many positive divisors `N` has.\n",
    "\n",
    "**Hints:**\n",
    "- Loop `d` from 1..N and test `N % d == 0`.\n",
    "- Optional: loop up to `int(sqrt(N))` and count pairs."
   ]
  },
  {
   "cell_type": "code",
   "execution_count": 47,
   "id": "b251cc10",
   "metadata": {},
   "outputs": [
    {
     "name": "stdout",
     "output_type": "stream",
     "text": [
      "9\n"
     ]
    }
   ],
   "source": [
    "import math\n",
    "\n",
    "N = int(input().strip())\n",
    "\n",
    "cnt = 0\n",
    "for i in range(1, int(math.isqrt(N)) + 1):\n",
    "    if N % i == 0:\n",
    "        cnt += 1\n",
    "        if i != N // i:\n",
    "            cnt += 1\n",
    "print (cnt)\n",
    "\n",
    "#TODO:\n"
   ]
  },
  {
   "cell_type": "markdown",
   "id": "30ae71a2",
   "metadata": {},
   "source": [
    "### Task 15. All perfect squares ≤ N\n",
    "\n",
    "Read integer `N` (N ≥ 1). Print all perfect squares not exceeding `N`, one per line (1, 4, 9, ...).\n",
    "\n",
    "**Hints:**\n",
    "- Use a counter `k = 1` and print `k*k` while `k*k <= N`.\n",
    "- Update `k += 1` each step."
   ]
  },
  {
   "cell_type": "code",
   "execution_count": 48,
   "id": "0fb3d132",
   "metadata": {},
   "outputs": [
    {
     "name": "stdout",
     "output_type": "stream",
     "text": [
      "1\n",
      "4\n",
      "9\n",
      "16\n"
     ]
    }
   ],
   "source": [
    "N = int(input().strip())\n",
    "\n",
    "k = 1\n",
    "while k * k <= N:\n",
    "    print(k * k)\n",
    "    k += 1\n",
    "#TODO: Print all perfect squares not exceeding N"
   ]
  }
 ],
 "metadata": {
  "kernelspec": {
   "display_name": "base",
   "language": "python",
   "name": "python3"
  },
  "language_info": {
   "codemirror_mode": {
    "name": "ipython",
    "version": 3
   },
   "file_extension": ".py",
   "mimetype": "text/x-python",
   "name": "python",
   "nbconvert_exporter": "python",
   "pygments_lexer": "ipython3",
   "version": "3.13.5"
  }
 },
 "nbformat": 4,
 "nbformat_minor": 5
}
